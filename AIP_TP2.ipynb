{
  "nbformat": 4,
  "nbformat_minor": 0,
  "metadata": {
    "colab": {
      "name": "AIP TP2",
      "version": "0.3.2",
      "provenance": [],
      "include_colab_link": true
    },
    "kernelspec": {
      "name": "python3",
      "display_name": "Python 3"
    }
  },
  "cells": [
    {
      "cell_type": "markdown",
      "metadata": {
        "id": "view-in-github",
        "colab_type": "text"
      },
      "source": [
        "<a href=\"https://colab.research.google.com/github/partizanos/advanced_image_processing/blob/master/AIP_TP2.ipynb\" target=\"_parent\"><img src=\"https://colab.research.google.com/assets/colab-badge.svg\" alt=\"Open In Colab\"/></a>"
      ]
    },
    {
      "cell_type": "markdown",
      "metadata": {
        "id": "NCAbWBrjljBB",
        "colab_type": "text"
      },
      "source": [
        "## Exercise 1. For the f1 and f2 given below determine f1 ∗ f2 analytically (”by hand” without\n",
        "Matlab) similarly as illustrated in Figure 1.\n",
        "\n",
        "### (a) \n",
        "\n",
        "f1 = [1, 0, 0]\n",
        "\n",
        "f2 = [0, 1, 0]\n",
        "\n",
        "\n",
        "### Answer a \n",
        "\n",
        "I assume:\n",
        "f1 (1) = 1,\n",
        "f1 (2) = 0,\n",
        "f1 (3) = 0,\n",
        "\n",
        "and \n",
        "f2 (1) = 0,\n",
        "f2 (2) = 1,\n",
        "f2 (3) = 0,\n",
        "\n",
        "Thus \n",
        "\n",
        "f1 (1) = $\\delta (n-1)$\n",
        "\n",
        "and \n",
        "f2 (1) = $\\delta (n-2)$,\n",
        "\n",
        "\n",
        "\n",
        "=> \n",
        "f1 * f2 \n",
        "\n",
        "= $\\sum _{m= - inf} ^{+inf}  f1(m)   f2(n-m) $ \n",
        "\n",
        "We observe that f1 and f2  each have only one positive value\n",
        "So they will have only one non zero result 1*1 f for n = 1\n",
        "\n",
        "\n",
        "\n",
        "\n",
        "###  (b) \n",
        "\n",
        "\n",
        "f1 = [0, 1, 0, 0, 0, 0]\n",
        "\n",
        "f2 = [1, 1, 1, 1, 1, 1]\n",
        "\n",
        "\n",
        "### Answer (b) \n",
        "\n",
        "\n",
        "Here we have \n",
        "\n",
        "f1 (1) = $\\delta (n-2)$\n",
        "\n",
        "and \n",
        "\n",
        "f2 (1) = $\\delta (n-1) \\delta (n-2) \\delta (n-3)\\delta (n-4)\\delta (n-5)$,\n",
        "\n",
        "\n",
        "\n",
        "We observe that f1 have one positive value\n",
        "So they will have one non zero result for every value of f2 apart frm the last \n",
        "\n",
        "Thus for n = 1, 2, 3, 4, 5 we will have g(n) =1 \n",
        "###  (c)\n",
        "\n",
        "f1(n) = δ(n)    + 2δ(n − 1) + 3δ(n − 2)\n",
        "\n",
        "\n",
        "\n",
        "f2(n) = δ(n + 1) + δ(n) + δ(n − 1) + δ(n − 2)\n",
        "\n",
        "### Answer (c)\n",
        "\n",
        "We see it \n",
        "f1= [0,1,2,3 ]\n",
        "f2= [1, 1,1, 1]\n",
        "\n",
        "\n",
        "Here we will have \n",
        "\n",
        "0* 1 = 0\n",
        "\n",
        "0* 1 + 1 \\* 1= 1\n",
        "\n",
        "0* 1 + 1 \\* 1 + 1\\* 2   = 3\n",
        "\n",
        "0* 1 + 1 \\* 1 + 1\\* 2  + 1 * 3 = 6\n",
        "\n"
      ]
    },
    {
      "cell_type": "markdown",
      "metadata": {
        "id": "FqMsJZZgm59n",
        "colab_type": "text"
      },
      "source": [
        "##  Exercise 2. ex\n",
        "### (a) Implement and test the averaging filter for any image. Visualise the image before and\n",
        "after filtering. What effects can you observe? An averaging filter can be implemented by\n",
        "convolving the following mask:"
      ]
    },
    {
      "cell_type": "markdown",
      "metadata": {
        "id": "e1M3IqginJko",
        "colab_type": "text"
      },
      "source": [
        "### (b) Implement and test the Gaussian filter for any image. Visualise the image before and after filtering. What effects can you observe? "
      ]
    },
    {
      "cell_type": "markdown",
      "metadata": {
        "id": "LTLQbHlTnVUi",
        "colab_type": "text"
      },
      "source": [
        "### c) How could these matrices be modified to increase the blurring effect, i.e. remove more high frequency components."
      ]
    },
    {
      "cell_type": "code",
      "metadata": {
        "id": "1AeJZW_DnSBv",
        "colab_type": "code",
        "colab": {}
      },
      "source": [
        ""
      ],
      "execution_count": 0,
      "outputs": []
    },
    {
      "cell_type": "markdown",
      "metadata": {
        "id": "Nymx4ItBnkLl",
        "colab_type": "text"
      },
      "source": [
        "## Exercise 3. You are given two noisy images tp2 001.jpg and tp2 002.jpg corrupted by ”impulse” noise. \n",
        "\n",
        "Defining the optimal parameters by yourself try to remove the noise with:\n",
        "(a) an averaging filter.\n",
        "(b) a median filter."
      ]
    },
    {
      "cell_type": "markdown",
      "metadata": {
        "id": "RHkJCRBVn3dZ",
        "colab_type": "text"
      },
      "source": [
        "## Exercise 4. Given the following discrete signal:\n",
        "x = [5, 7, 6, 5, 4, 3, 2, 1, 0, 5, 4, 3, 2, 1, 0, 0, 0, 6, 0, 0, 0, 0, 1, 3, 1, 0, 0, 0, 0, 7, 7, 7, 7]\n",
        "### (a) Determine the first and second order derivative\n",
        "### (b) Plot the original and the derivatives\n",
        "### (c) What properties of the first and second order derivative can you see?"
      ]
    },
    {
      "cell_type": "markdown",
      "metadata": {
        "id": "tg7TJ7zYn--O",
        "colab_type": "text"
      },
      "source": [
        "## Exercise 5. ex\n",
        "### a) Implement by yourself and test (apply to any image) the Laplacian filter based on Equation 1 and a 3 × 3 neighbourhood. Visualise the image before and after filtering. What effects can you observe?\n",
        "\n",
        "### Implement and test (apply to any image) the above Laplacian filter implementations. Visualise the image before and after filtering. What effects can you observe?"
      ]
    },
    {
      "cell_type": "markdown",
      "metadata": {
        "id": "SKHLa1Vcobxj",
        "colab_type": "text"
      },
      "source": [
        "##  Exercise 6. Take any image. Blur this image with the box filter of size 3 × 3.\n",
        "### (a) Defining the optimal parameters perform image sharpening using the Gaussian filter.\n",
        "###  (b) Defining the optimal parameters perform image sharpening using the Laplacian filter. Display blurred and enhanced images. Comment the quality of the enhanced images based on the visual quality and based on the mse between the original and improved images."
      ]
    },
    {
      "cell_type": "markdown",
      "metadata": {
        "id": "kWyLeZZ1ojFR",
        "colab_type": "text"
      },
      "source": [
        "## Exercise 7. ex\n",
        "### 1. Generate 2x100 realisations using randn with zero mean and unit variance. These values,\n",
        "x, are realisations of two random variables X1 and X2 that are Gaussian distributed, i.e\n",
        "Xi ∼ N (0, 1).\n",
        "(a) Plot X1 and X2.\n",
        "(b) What is the expectation of Xi\n",
        ", E[Xi\n",
        "] (or µXi\n",
        ").\n",
        "(c) What is the value of var[X1] and var[X2].\n",
        "###  2. Determine CY empirically. Use the function plotcov to draw the ellipse associated with µY and CY . When plotting, use axis equal to correctly plot circles.\n",
        "###  3. Let linear operator A be defined as:"
      ]
    }
  ]
}