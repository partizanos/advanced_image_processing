{
  "nbformat": 4,
  "nbformat_minor": 0,
  "metadata": {
    "colab": {
      "name": "tp4.ipynb",
      "version": "0.3.2",
      "provenance": [],
      "collapsed_sections": [],
      "include_colab_link": true
    },
    "kernelspec": {
      "name": "python3",
      "display_name": "Python 3"
    }
  },
  "cells": [
    {
      "cell_type": "markdown",
      "metadata": {
        "id": "view-in-github",
        "colab_type": "text"
      },
      "source": [
        "<a href=\"https://colab.research.google.com/github/partizanos/advanced_image_processing/blob/master/tp4.ipynb\" target=\"_parent\"><img src=\"https://colab.research.google.com/assets/colab-badge.svg\" alt=\"Open In Colab\"/></a>"
      ]
    },
    {
      "cell_type": "markdown",
      "metadata": {
        "id": "Mblg1yLAKLJE",
        "colab_type": "text"
      },
      "source": [
        "# Tp4 image processing JPEG -- DIMITRIS PROIOS\n",
        "\n",
        "## Exercise 1 (a) Implement by yourself the JPEG compression algorithm described above."
      ]
    },
    {
      "cell_type": "code",
      "metadata": {
        "id": "DZcjDxvJzvnG",
        "colab_type": "code",
        "colab": {}
      },
      "source": [
        "import matplotlib.image as mpimg\n",
        "import matplotlib.pyplot as plt\n",
        "import numpy as np\n",
        "import requests\n",
        "from PIL import Image\n",
        "from io import BytesIO\n",
        "\n",
        "response = requests.get(\"https://raw.githubusercontent.com/partizanos/advanced_image_processing/master/TP/TP4/test.png\")\n",
        "im = Image.open(BytesIO(response.content))\n",
        "img = np.array(im)\n",
        "crop = lambda img:img[:max_M, :max_N, :]\n",
        "img = crop(img )"
      ],
      "execution_count": 0,
      "outputs": []
    },
    {
      "cell_type": "markdown",
      "metadata": {
        "id": "MGiz-FoKpArc",
        "colab_type": "text"
      },
      "source": [
        "1. RGB color space to YCbCr color space conversion:"
      ]
    },
    {
      "cell_type": "code",
      "metadata": {
        "id": "9abVGqsjo_nM",
        "colab_type": "code",
        "colab": {}
      },
      "source": [
        "def extract_colors(img):\n",
        "  R_DIMENSION = img[:, :, 0]\n",
        "  G_DIMENSION = img[:, :, 1]\n",
        "  B_DIMENSION = img[:, :, 2]\n",
        "  return R_DIMENSION, G_DIMENSION, B_DIMENSION\n",
        "\n",
        "\n",
        "def YCbCr(R_DIMENSION,G_DIMENSION,B_DIMENSION): \n",
        "  Y = np.add(np.add(0.299 * R_DIMENSION, 0.587 * G_DIMENSION), 0.114 * B_DIMENSION)\n",
        "  Cb = - 0.1687 * R_DIMENSION - 0.3313 * G_DIMENSION + 0.5 * B_DIMENSION + 128\n",
        "  Cr = 0.5 * R_DIMENSION - 0.4187 * G_DIMENSION - 0.0813 * B_DIMENSION + 128\n",
        "  R_DIMENSION = Y + 1.402 * (Cr - 128)\n",
        "  G_DIMENSION = Y - 0.34414 * (Cb - 128) - 0.71414 * (Cr - 128)\n",
        "  B_DIMENSION = Y + 1.772 * (Cb - 128)\n",
        "  return Y, Cb, Cr, R_DIMENSION, G_DIMENSION, B_DIMENSION\n",
        "\n",
        "Y, Cb, Cr, R_DIMENSION, G_DIMENSION, B_DIMENSION = YCbCr(*extract_colors(img))"
      ],
      "execution_count": 0,
      "outputs": []
    },
    {
      "cell_type": "markdown",
      "metadata": {
        "id": "Um3OPGc4pFzs",
        "colab_type": "text"
      },
      "source": [
        "2. Keep the Y component.\n",
        "Downsample the Cb and Cr components in 2 times.\n",
        "Apply DCT compression to each component."
      ]
    },
    {
      "cell_type": "code",
      "metadata": {
        "id": "sCRTdeCd5jZJ",
        "colab_type": "code",
        "colab": {
          "base_uri": "https://localhost:8080/",
          "height": 35
        },
        "outputId": "b83adc09-041b-4e3e-bec3-7f0bc7985d0e"
      },
      "source": [
        "def downsample_image(img, skip):\n",
        "    return img[::skip,::skip]\n",
        "\n",
        "d_cb  = downsample_image(Cb, 2)\n",
        "d_cb  = downsample_image(d_cb, 2)\n",
        "d_cr  = downsample_image(Cr, 2)\n",
        "d_cr  = downsample_image(d_cr, 2)\n",
        "Y[0].shape"
      ],
      "execution_count": 113,
      "outputs": [
        {
          "output_type": "execute_result",
          "data": {
            "text/plain": [
              "(1296,)"
            ]
          },
          "metadata": {
            "tags": []
          },
          "execution_count": 113
        }
      ]
    },
    {
      "cell_type": "markdown",
      "metadata": {
        "id": "WMdY0ECqpguK",
        "colab_type": "text"
      },
      "source": [
        "3. Preprocessing for DCT transformation\n",
        "\n",
        "3.1 Split the image into 8 × 8 non-overlapping blocks"
      ]
    },
    {
      "cell_type": "code",
      "metadata": {
        "id": "ZgfX-mW92E-S",
        "colab_type": "code",
        "outputId": "211c2b6b-9b4e-4ff5-b0d4-8a43b5d6cb26",
        "colab": {
          "base_uri": "https://localhost:8080/",
          "height": 35
        }
      },
      "source": [
        "import math\n",
        "M, N, _ = img.shape\n",
        "max_M = int(math.modf(M/8)[1] *8)\n",
        "max_N = int(math.modf(N/8)[1] *8)\n",
        "global_mean = 128\n",
        "number_octads = int(max_M* max_N / 64)\n",
        "number_octads, Y.shape, max_M, max_N"
      ],
      "execution_count": 114,
      "outputs": [
        {
          "output_type": "execute_result",
          "data": {
            "text/plain": [
              "(17496, (864, 1296), 864, 1296)"
            ]
          },
          "metadata": {
            "tags": []
          },
          "execution_count": 114
        }
      ]
    },
    {
      "cell_type": "markdown",
      "metadata": {
        "id": "6voyI0oIpk7b",
        "colab_type": "text"
      },
      "source": [
        "3.2 In each block subtract global mean computed as 2 k−1 , where k is the number of gray\n",
        "levels in the image"
      ]
    },
    {
      "cell_type": "code",
      "metadata": {
        "id": "yienf0P-vq8b",
        "colab_type": "code",
        "colab": {}
      },
      "source": [
        "Y_r = Y.reshape((number_octads, 8,8)) - global_mean\n",
        "Cb_r = Cb.reshape((number_octads, 8,8)) - global_mean\n",
        "Cr_r = Cr.reshape((number_octads, 8,8)) - global_mean"
      ],
      "execution_count": 0,
      "outputs": []
    },
    {
      "cell_type": "markdown",
      "metadata": {
        "id": "5bdpCAJpMrJp",
        "colab_type": "text"
      },
      "source": [
        "Step 4. DCT transformation per block: T (u, v)"
      ]
    },
    {
      "cell_type": "code",
      "metadata": {
        "id": "SGn7u4fgxn7f",
        "colab_type": "code",
        "colab": {
          "base_uri": "https://localhost:8080/",
          "height": 52
        },
        "outputId": "a33cd90a-73ac-4923-d958-0b32216a942d"
      },
      "source": [
        "from scipy import fftpack \n",
        "\n",
        "Y_dct = fftpack.dct(Y_r)\n",
        "Cb_dct = fftpack.dct(Cb_r)\n",
        "Cr_dct = fftpack.dct(Cr_r)"
      ],
      "execution_count": 116,
      "outputs": [
        {
          "output_type": "execute_result",
          "data": {
            "text/plain": [
              "((17496, 8, 8), array([-27.7724    ,   6.61062163,   6.95819743,   1.63500718,\n",
              "          2.82842712,  -0.57715909,  -0.5674042 ,  -2.80283902]))"
            ]
          },
          "metadata": {
            "tags": []
          },
          "execution_count": 116
        }
      ]
    },
    {
      "cell_type": "markdown",
      "metadata": {
        "id": "0oPJIdwFKj3y",
        "colab_type": "text"
      },
      "source": [
        "Step 5. Block coefficients quantization:\n",
        "\n",
        "$T(u,v) = round \\frac{T(u,v)} {Z(u,v)}  $"
      ]
    },
    {
      "cell_type": "code",
      "metadata": {
        "id": "hFs8JiFIsjIr",
        "colab_type": "code",
        "colab": {
          "base_uri": "https://localhost:8080/",
          "height": 235
        },
        "outputId": "9f9e65d4-8b1e-4490-a680-76222e16eab5"
      },
      "source": [
        "Z = [\n",
        "    [16, 11, 10, 16, 24, 40, 51, 61],\n",
        "    [12, 12, 14, 19, 26, 28, 60, 55],\n",
        "    [14, 13, 16, 24, 40, 57, 69, 56],\n",
        "    [14, 17, 22, 29, 51, 87, 80, 62],\n",
        "    [18, 22, 37, 56, 68, 109, 103, 77],\n",
        "    [24, 35, 55, 64, 81, 104, 113, 92],\n",
        "    [49, 64, 78, 87, 103, 121, 120, 101],\n",
        "    [72, 92, 95, 98, 112, 100, 103, 99]\n",
        "]\n",
        "\n",
        "T_Y = np.round(Y_dct/Z)\n",
        "T_cb = np.round(Cb_dct/Z)\n",
        "T_cr = np.round(Cr_dct/Z)\n",
        "\n",
        "T_cr.shape, T_cr[0, :]"
      ],
      "execution_count": 1,
      "outputs": [
        {
          "output_type": "error",
          "ename": "NameError",
          "evalue": "ignored",
          "traceback": [
            "\u001b[0;31m---------------------------------------------------------------------------\u001b[0m",
            "\u001b[0;31mNameError\u001b[0m                                 Traceback (most recent call last)",
            "\u001b[0;32m<ipython-input-1-37997d2d46a9>\u001b[0m in \u001b[0;36m<module>\u001b[0;34m()\u001b[0m\n\u001b[1;32m     10\u001b[0m ]\n\u001b[1;32m     11\u001b[0m \u001b[0;34m\u001b[0m\u001b[0m\n\u001b[0;32m---> 12\u001b[0;31m \u001b[0mT_Y\u001b[0m \u001b[0;34m=\u001b[0m \u001b[0;34m(\u001b[0m\u001b[0mY_dct\u001b[0m\u001b[0;34m/\u001b[0m\u001b[0mZ\u001b[0m\u001b[0;34m)\u001b[0m\u001b[0;34m\u001b[0m\u001b[0;34m\u001b[0m\u001b[0m\n\u001b[0m\u001b[1;32m     13\u001b[0m \u001b[0mT_cb\u001b[0m \u001b[0;34m=\u001b[0m \u001b[0;34m(\u001b[0m\u001b[0mCb_dct\u001b[0m\u001b[0;34m/\u001b[0m\u001b[0mZ\u001b[0m\u001b[0;34m)\u001b[0m\u001b[0;34m\u001b[0m\u001b[0;34m\u001b[0m\u001b[0m\n\u001b[1;32m     14\u001b[0m \u001b[0mT_cr\u001b[0m \u001b[0;34m=\u001b[0m \u001b[0;34m(\u001b[0m\u001b[0mCr_dct\u001b[0m\u001b[0;34m/\u001b[0m\u001b[0mZ\u001b[0m\u001b[0;34m)\u001b[0m\u001b[0;34m\u001b[0m\u001b[0;34m\u001b[0m\u001b[0m\n",
            "\u001b[0;31mNameError\u001b[0m: name 'Y_dct' is not defined"
          ]
        }
      ]
    },
    {
      "cell_type": "markdown",
      "metadata": {
        "id": "0-cJ7BaUK3N3",
        "colab_type": "text"
      },
      "source": [
        "Step 6. Symbols encoding:\n",
        "6.1  Zig-zag scanning\n"
      ]
    },
    {
      "cell_type": "code",
      "metadata": {
        "id": "4bYt9Av9K7YM",
        "colab_type": "code",
        "colab": {}
      },
      "source": [
        "# https://rosettacode.org/wiki/Zig-zag_matrix#Python\n",
        "import operator\n",
        "\n",
        "def zigzag(n):\n",
        "    '''zigzag rows'''\n",
        "    def compare(xy):\n",
        "        x, y = xy\n",
        "        return (x + y, -y if (x + y) % 2 else y)\n",
        "      \n",
        "    xs = range(n)\n",
        "    \n",
        "    return {index: n for n, index in enumerate(sorted(\n",
        "        ((x, y) for x in xs for y in xs),\n",
        "        key=compare\n",
        "    ))}\n",
        "\n",
        "\n",
        "x = zigzag(8)\n",
        "sorted_x = sorted(x.items(), key=operator.itemgetter(1))\n",
        "\n",
        "\n",
        "\n",
        "# [ for i in sorted_x for arr in []]"
      ],
      "execution_count": 0,
      "outputs": []
    },
    {
      "cell_type": "code",
      "metadata": {
        "id": "hEKcRA20rEw9",
        "colab_type": "code",
        "colab": {
          "base_uri": "https://localhost:8080/",
          "height": 166
        },
        "outputId": "c6cf9ee9-7703-48ea-cf80-e3657ba0a18e"
      },
      "source": [
        "Y_b = T_Y.reshape((max_M, max_N))\n",
        "Y_b.shape"
      ],
      "execution_count": 2,
      "outputs": [
        {
          "output_type": "error",
          "ename": "NameError",
          "evalue": "ignored",
          "traceback": [
            "\u001b[0;31m---------------------------------------------------------------------------\u001b[0m",
            "\u001b[0;31mNameError\u001b[0m                                 Traceback (most recent call last)",
            "\u001b[0;32m<ipython-input-2-63373e2cca4b>\u001b[0m in \u001b[0;36m<module>\u001b[0;34m()\u001b[0m\n\u001b[0;32m----> 1\u001b[0;31m \u001b[0mT_Y\u001b[0m\u001b[0;34m.\u001b[0m\u001b[0mreshape\u001b[0m\u001b[0;34m(\u001b[0m\u001b[0;34m(\u001b[0m\u001b[0mmax_M\u001b[0m\u001b[0;34m,\u001b[0m \u001b[0mmax_N\u001b[0m\u001b[0;34m)\u001b[0m\u001b[0;34m)\u001b[0m\u001b[0;34m\u001b[0m\u001b[0;34m\u001b[0m\u001b[0m\n\u001b[0m",
            "\u001b[0;31mNameError\u001b[0m: name 'T_Y' is not defined"
          ]
        }
      ]
    },
    {
      "cell_type": "markdown",
      "metadata": {
        "id": "FC5BxoP-qIYd",
        "colab_type": "text"
      },
      "source": [
        "6.2 Huffman coding"
      ]
    },
    {
      "cell_type": "code",
      "metadata": {
        "id": "Uk-31QpcMQ7-",
        "colab_type": "code",
        "colab": {}
      },
      "source": [
        "#https://gist.github.com/mreid/fdf6353ec39d050e972b\n",
        "# Example Huffman coding implementation\n",
        "# Distributions are represented as dictionaries of { 'symbol': probability }\n",
        "# Codes are dictionaries too: { 'symbol': 'codeword' }\n",
        "\n",
        "def huffman(p):\n",
        "    '''Return a Huffman code for an ensemble with distribution p.'''\n",
        "    assert(sum(p.values()) == 1.0) # Ensure probabilities sum to 1\n",
        "\n",
        "    # Base case of only two symbols, assign 0 or 1 arbitrarily\n",
        "    if(len(p) == 2):\n",
        "        return dict(zip(p.keys(), ['0', '1']))\n",
        "\n",
        "    # Create a new distribution by merging lowest prob. pair\n",
        "    p_prime = p.copy()\n",
        "    a1, a2 = lowest_prob_pair(p)\n",
        "    p1, p2 = p_prime.pop(a1), p_prime.pop(a2)\n",
        "    p_prime[a1 + a2] = p1 + p2\n",
        "\n",
        "    # Recurse and construct code on new distribution\n",
        "    c = huffman(p_prime)\n",
        "    ca1a2 = c.pop(a1 + a2)\n",
        "    c[a1], c[a2] = ca1a2 + '0', ca1a2 + '1'\n",
        "\n",
        "    return c\n",
        "\n",
        "def lowest_prob_pair(p):\n",
        "    '''Return pair of symbols from distribution p with lowest probabilities.'''\n",
        "    assert(len(p) >= 2) # Ensure there are at least 2 symbols in the dist.\n",
        "\n",
        "    sorted_p = sorted(p.items())\n",
        "    return sorted_p[0][0], sorted_p[1][0]\n",
        "\n",
        "# Example execution\n",
        "# ex1 = { 'a': 0.5, 'b': 0.25, 'c': 0.25 }\n",
        "# huffman(ex1) # => {'a': '0', 'c': '10', 'b': '11'}\n"
      ],
      "execution_count": 0,
      "outputs": []
    },
    {
      "cell_type": "code",
      "metadata": {
        "id": "ORWYa1r5n29-",
        "colab_type": "code",
        "colab": {}
      },
      "source": [
        "# merge all blocks \n"
      ],
      "execution_count": 0,
      "outputs": []
    },
    {
      "cell_type": "code",
      "metadata": {
        "id": "gOKRN70wWyQt",
        "colab_type": "code",
        "colab": {
          "base_uri": "https://localhost:8080/",
          "height": 35
        },
        "outputId": "7735c97e-6800-4c8e-8e7c-ce0e2971f865"
      },
      "source": [
        "T_Y.shape"
      ],
      "execution_count": 121,
      "outputs": [
        {
          "output_type": "execute_result",
          "data": {
            "text/plain": [
              "(17496, 8, 8)"
            ]
          },
          "metadata": {
            "tags": []
          },
          "execution_count": 121
        }
      ]
    },
    {
      "cell_type": "markdown",
      "metadata": {
        "id": "jUdxRgUnWwNG",
        "colab_type": "text"
      },
      "source": [
        ""
      ]
    }
  ]
}