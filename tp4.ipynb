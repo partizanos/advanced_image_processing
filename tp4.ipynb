{
  "nbformat": 4,
  "nbformat_minor": 0,
  "metadata": {
    "colab": {
      "name": "tp4.ipynb",
      "version": "0.3.2",
      "provenance": [],
      "include_colab_link": true
    },
    "kernelspec": {
      "name": "python3",
      "display_name": "Python 3"
    }
  },
  "cells": [
    {
      "cell_type": "markdown",
      "metadata": {
        "id": "view-in-github",
        "colab_type": "text"
      },
      "source": [
        "<a href=\"https://colab.research.google.com/github/partizanos/advanced_image_processing/blob/master/tp4.ipynb\" target=\"_parent\"><img src=\"https://colab.research.google.com/assets/colab-badge.svg\" alt=\"Open In Colab\"/></a>"
      ]
    },
    {
      "cell_type": "code",
      "metadata": {
        "id": "DZcjDxvJzvnG",
        "colab_type": "code",
        "colab": {}
      },
      "source": [
        "import matplotlib.image as mpimg\n",
        "import matplotlib.pyplot as plt\n",
        "import numpy as np\n",
        "import requests\n",
        "from PIL import Image\n",
        "from io import BytesIO\n",
        "\n",
        "response = requests.get(\"https://raw.githubusercontent.com/partizanos/advanced_image_processing/master/TP/TP4/test.png\")\n",
        "im = Image.open(BytesIO(response.content))\n",
        "img = np.array(im)\n",
        "\n",
        "\n",
        "def extract_colors(img):\n",
        "  R_DIMENSION = img[:, :, 0]\n",
        "  G_DIMENSION = img[:, :, 1]\n",
        "  B_DIMENSION = img[:, :, 2]\n",
        "  return R_DIMENSION, G_DIMENSION, B_DIMENSION\n",
        "\n",
        "\n",
        "def YCbCr(R_DIMENSION,G_DIMENSION,B_DIMENSION): \n",
        "  Y = np.add(np.add(0.299 * R_DIMENSION, 0.587 * G_DIMENSION), 0.114 * B_DIMENSION)\n",
        "  Cb = - 0.1687 * R_DIMENSION - 0.3313 * G_DIMENSION + 0.5 * B_DIMENSION + 128\n",
        "  Cr = 0.5 * R_DIMENSION - 0.4187 * G_DIMENSION - 0.0813 * B_DIMENSION + 128\n",
        "  R_DIMENSION = Y + 1.402 * (Cr - 128)\n",
        "  G_DIMENSION = Y - 0.34414 * (Cb - 128) - 0.71414 * (Cr - 128)\n",
        "  B_DIMENSION = Y + 1.772 * (Cb - 128)\n",
        "  return Y, Cb, Cr, R_DIMENSION, G_DIMENSION, B_DIMENSION\n",
        "\n",
        "Y, Cb, Cr, R_DIMENSION, G_DIMENSION, B_DIMENSION = YCbCr(*extract_colors(img))\n"
      ],
      "execution_count": 0,
      "outputs": []
    },
    {
      "cell_type": "code",
      "metadata": {
        "id": "sCRTdeCd5jZJ",
        "colab_type": "code",
        "colab": {
          "base_uri": "https://localhost:8080/",
          "height": 35
        },
        "outputId": "8cd11eb9-bd10-4b39-b144-cf5e503107ec"
      },
      "source": [
        "def downsample_image(img, skip):\n",
        "    return img[::skip,::skip]\n",
        "\n",
        "d_cb  = downsample_image(Cb, 2)\n",
        "d_cb  = downsample_image(d_cb, 2)\n",
        "d_cr  = downsample_image(Cr, 2)\n",
        "d_cr  = downsample_image(d_cr, 2)\n",
        "Y[0].shape"
      ],
      "execution_count": 52,
      "outputs": [
        {
          "output_type": "execute_result",
          "data": {
            "text/plain": [
              "(1296,)"
            ]
          },
          "metadata": {
            "tags": []
          },
          "execution_count": 52
        }
      ]
    },
    {
      "cell_type": "code",
      "metadata": {
        "id": "ZgfX-mW92E-S",
        "colab_type": "code",
        "outputId": "ae7df409-f587-48dd-9ee2-0e87d80afcf9",
        "colab": {
          "base_uri": "https://localhost:8080/",
          "height": 35
        }
      },
      "source": [
        "import math\n",
        "M, N, _ = img.shape\n",
        "max_M = int(math.modf(M/8)[1] *8)\n",
        "max_N = int(math.modf(N/8)[1] *8)\n",
        "global_mean = 128\n",
        "number_octads = int(max_M* max_N / 64)\n",
        "number_octads, Y.shape, max_M, max_N"
      ],
      "execution_count": 59,
      "outputs": [
        {
          "output_type": "execute_result",
          "data": {
            "text/plain": [
              "(17496, (870, 1296), 864, 1296)"
            ]
          },
          "metadata": {
            "tags": []
          },
          "execution_count": 59
        }
      ]
    },
    {
      "cell_type": "code",
      "metadata": {
        "id": "yienf0P-vq8b",
        "colab_type": "code",
        "colab": {
          "base_uri": "https://localhost:8080/",
          "height": 295
        },
        "outputId": "8c9aa101-e08d-4dab-a9b2-d76626ea0c4d"
      },
      "source": [
        "crop = lambda img:img[:max_M, :max_N]\n",
        "Cb_cropped = crop(Cb)\n",
        "Cr_cropped = crop(Cr)\n",
        "Y_cropped = crop(Y)\n",
        "Y_r = Y_cropped.reshape((number_octads, 8,8)) - global_mean\n",
        "Cb_r = Cb_cropped.reshape((number_octads, 8,8)) - global_mean\n",
        "Cr_r = Cr_cropped.reshape((number_octads, 8,8)) - global_mean"
      ],
      "execution_count": 63,
      "outputs": [
        {
          "output_type": "execute_result",
          "data": {
            "text/plain": [
              "array([[-110.228, -108.054, -101.592, -114.293, -115.364, -112.723,\n",
              "        -114.495, -117.783],\n",
              "       [-116.196, -114.196, -113.159, -107.877, -105.501, -104.886,\n",
              "         -98.587,  -94.576],\n",
              "       [ -86.559,  -90.086,  -98.755, -105.712, -110.957,  -99.185,\n",
              "        -103.071, -106.957],\n",
              "       [-110.071, -109.256, -102.74 , -101.968,  -91.256,  -73.576,\n",
              "         -73.217,  -63.706],\n",
              "       [ -35.389,  -27.393,  -77.096, -102.054,  -90.185,  -67.408,\n",
              "         -64.234,  -70.87 ],\n",
              "       [ -66.989,  -94.114,  -97.342,  -95.168,  -97.228,  -94.131,\n",
              "         -86.066,  -41.371],\n",
              "       [  13.539,   26.116,   30.123,   14.737,  -10.28 ,  -22.091,\n",
              "          22.997,   31.955],\n",
              "       [  40.673,   33.266,    0.712,  -38.916,  -44.091,   11.39 ,\n",
              "           5.111,  -28.282]])"
            ]
          },
          "metadata": {
            "tags": []
          },
          "execution_count": 63
        }
      ]
    },
    {
      "cell_type": "code",
      "metadata": {
        "id": "SGn7u4fgxn7f",
        "colab_type": "code",
        "colab": {}
      },
      "source": [
        "# 4. DCT transformation per block: T (u, v)\n",
        "from scipy import fftpack \n",
        "Y_dct = fftpack.dct(Y_r)\n",
        "Cb_dct = fftpack.dct(Cb_r)\n",
        "Cr_dct = fftpack.dct(Cr_r)"
      ],
      "execution_count": 0,
      "outputs": []
    },
    {
      "cell_type": "code",
      "metadata": {
        "id": "hFs8JiFIsjIr",
        "colab_type": "code",
        "colab": {}
      },
      "source": [
        "Z = [\n",
        "    [16, 11, 10, 16, 24, 40, 51, 61],\n",
        "    [12, 12, 14, 19, 26, 28, 60, 55],\n",
        "    [14, 13, 16, 24, 40, 57, 69, 56],\n",
        "    [14, 17, 22, 29, 51, 87, 80, 62],\n",
        "    [18, 22, 37, 56, 68, 109, 103, 77],\n",
        "    [24, 35, 55, 64, 81, 104, 113, 92],\n",
        "    [49, 64, 78, 87, 103, 121, 120, 101],\n",
        "    [72, 92, 95, 98, 112, 100, 103, 99]\n",
        "]\n",
        "\n",
        "T_Y = Y_dct/Z\n",
        "T_cb = Cb_dct/Z\n",
        "T_cr = Cr_dct/Z"
      ],
      "execution_count": 0,
      "outputs": []
    }
  ]
}