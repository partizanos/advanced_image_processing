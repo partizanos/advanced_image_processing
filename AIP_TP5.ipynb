{
  "nbformat": 4,
  "nbformat_minor": 0,
  "metadata": {
    "colab": {
      "name": "AIP TP5 ",
      "version": "0.3.2",
      "provenance": [],
      "include_colab_link": true
    },
    "kernelspec": {
      "name": "python3",
      "display_name": "Python 3"
    }
  },
  "cells": [
    {
      "cell_type": "markdown",
      "metadata": {
        "id": "view-in-github",
        "colab_type": "text"
      },
      "source": [
        "<a href=\"https://colab.research.google.com/github/partizanos/advanced_image_processing/blob/master/AIP_TP5.ipynb\" target=\"_parent\"><img src=\"https://colab.research.google.com/assets/colab-badge.svg\" alt=\"Open In Colab\"/></a>"
      ]
    },
    {
      "cell_type": "markdown",
      "metadata": {
        "id": "m0HCaGqlLl5L",
        "colab_type": "text"
      },
      "source": [
        "Exercise 1. Single image compression\n",
        "\n",
        "Take any image x from the EXT YALE dataset given in the TP3. Compress this image\n",
        "in its own optimal SVD basis as"
      ]
    },
    {
      "cell_type": "code",
      "metadata": {
        "id": "gpNeXNKALkNk",
        "colab_type": "code",
        "colab": {
          "base_uri": "https://localhost:8080/",
          "height": 357
        },
        "outputId": "462366dd-4e0b-41c7-caa1-bf0a13476c0a"
      },
      "source": [
        "import matplotlib.image as mpimg\n",
        "import matplotlib.pyplot as plt\n",
        "import numpy as np\n",
        "import requests\n",
        "from PIL import Image\n",
        "from io import BytesIO\n",
        "import math\n",
        "from scipy import fftpack \n",
        "\n",
        "!wget https://github.com/partizanos/advanced_image_processing/blob/master/EXT_YALE_B_Normal.mat?raw=true\n",
        "!mv EXT_YALE_B_Normal.mat\\?raw\\=true data.mat\n",
        "\n",
        "from scipy import io\n",
        "v = io.loadmat('data.mat')"
      ],
      "execution_count": 1,
      "outputs": [
        {
          "output_type": "stream",
          "text": [
            "--2019-05-25 18:53:43--  https://github.com/partizanos/advanced_image_processing/blob/master/EXT_YALE_B_Normal.mat?raw=true\n",
            "Resolving github.com (github.com)... 192.30.253.113\n",
            "Connecting to github.com (github.com)|192.30.253.113|:443... connected.\n",
            "HTTP request sent, awaiting response... 302 Found\n",
            "Location: https://github.com/partizanos/advanced_image_processing/raw/master/EXT_YALE_B_Normal.mat [following]\n",
            "--2019-05-25 18:53:43--  https://github.com/partizanos/advanced_image_processing/raw/master/EXT_YALE_B_Normal.mat\n",
            "Reusing existing connection to github.com:443.\n",
            "HTTP request sent, awaiting response... 302 Found\n",
            "Location: https://raw.githubusercontent.com/partizanos/advanced_image_processing/master/EXT_YALE_B_Normal.mat [following]\n",
            "--2019-05-25 18:53:43--  https://raw.githubusercontent.com/partizanos/advanced_image_processing/master/EXT_YALE_B_Normal.mat\n",
            "Resolving raw.githubusercontent.com (raw.githubusercontent.com)... 151.101.0.133, 151.101.64.133, 151.101.128.133, ...\n",
            "Connecting to raw.githubusercontent.com (raw.githubusercontent.com)|151.101.0.133|:443... connected.\n",
            "HTTP request sent, awaiting response... 200 OK\n",
            "Length: 55842427 (53M) [application/octet-stream]\n",
            "Saving to: ‘EXT_YALE_B_Normal.mat?raw=true’\n",
            "\n",
            "EXT_YALE_B_Normal.m 100%[===================>]  53.25M   200MB/s    in 0.3s    \n",
            "\n",
            "2019-05-25 18:53:44 (200 MB/s) - ‘EXT_YALE_B_Normal.mat?raw=true’ saved [55842427/55842427]\n",
            "\n"
          ],
          "name": "stdout"
        }
      ]
    },
    {
      "cell_type": "code",
      "metadata": {
        "id": "3BrnxaFEVztc",
        "colab_type": "code",
        "colab": {
          "base_uri": "https://localhost:8080/",
          "height": 286
        },
        "outputId": "8ac7c429-5b36-467f-c03b-e79a7bbb557f"
      },
      "source": [
        "arr = np.array(v[\"faceData\"])\n",
        "plt.imshow(arr)\n",
        "arr.shape\n",
        "img1 = arr[:64, :64]\n",
        "plt.imshow(img1)"
      ],
      "execution_count": 4,
      "outputs": [
        {
          "output_type": "execute_result",
          "data": {
            "text/plain": [
              "<matplotlib.image.AxesImage at 0x7fac635d5780>"
            ]
          },
          "metadata": {
            "tags": []
          },
          "execution_count": 4
        },
        {
          "output_type": "display_data",
          "data": {
            "image/png": "[encoded data removed]",
            "text/plain": [
              "<Figure size 432x288 with 1 Axes>"
            ]
          },
          "metadata": {
            "tags": []
          }
        }
      ]
    }
  ]
}