{
  "nbformat": 4,
  "nbformat_minor": 0,
  "metadata": {
    "colab": {
      "name": "AIP TP5 ",
      "version": "0.3.2",
      "provenance": [],
      "include_colab_link": true
    },
    "kernelspec": {
      "name": "python3",
      "display_name": "Python 3"
    }
  },
  "cells": [
    {
      "cell_type": "markdown",
      "metadata": {
        "id": "view-in-github",
        "colab_type": "text"
      },
      "source": [
        "<a href=\"https://colab.research.google.com/github/partizanos/advanced_image_processing/blob/master/AIP_TP5.ipynb\" target=\"_parent\"><img src=\"https://colab.research.google.com/assets/colab-badge.svg\" alt=\"Open In Colab\"/></a>"
      ]
    },
    {
      "cell_type": "markdown",
      "metadata": {
        "id": "m0HCaGqlLl5L",
        "colab_type": "text"
      },
      "source": [
        "Exercise 1. Single image compression\n",
        "\n",
        "Take any image x from the EXT YALE dataset given in the TP3. Compress this image\n",
        "in its own optimal SVD basis as"
      ]
    },
    {
      "cell_type": "code",
      "metadata": {
        "id": "gpNeXNKALkNk",
        "colab_type": "code",
        "colab": {}
      },
      "source": [
        "import matplotlib.image as mpimg\n",
        "import matplotlib.pyplot as plt\n",
        "import numpy as np\n",
        "import requests\n",
        "from PIL import Image\n",
        "from io import BytesIO\n",
        "import math\n",
        "from scipy import fftpack "
      ],
      "execution_count": 0,
      "outputs": []
    }
  ]
}