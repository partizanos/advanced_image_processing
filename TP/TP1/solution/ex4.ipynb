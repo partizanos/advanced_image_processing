{
  "cells": [
    {
      "cell_type": "markdown",
      "source": "\n### Exercise 4. \n#### 4.1)Read the image peppers.png and convert it to grayscale and add Gaussian noise N (0, 625). Perform its low-rank approximation for k \u003d 1, ..., n. \n",
      "metadata": {
        "pycharm": {
          "metadata": false
        }
      }
    },
    {
      "cell_type": "markdown",
      "source": "#### 4.2 Plot the dependence between the k and MSE of k-rank approximation version of original image. Make a conclusion.\nThe Plot the dependence between\nthe k and MSE of k-rank approximation version of original image. (mistake?)\nI am plotting the approximation with grayscale noised image.\n\n#### Conclusion \nThe svd reconstruction ratio is maintained even with the noised image. \n\n",
      "metadata": {
        "pycharm": {
          "metadata": false
        }
      }
    },
    {
      "cell_type": "code",
      "execution_count": 1,
      "outputs": [
        {
          "data": {
            "text/plain": "\u003cFigure size 1000x1000 with 2 Axes\u003e"
          },
          "metadata": {},
          "output_type": "display_data"
        }
      ],
      "source": "#4,1\nimport matplotlib.pyplot as plt\nimport matplotlib.image as mpimg\nimport cv2 \nimport numpy as np\n\ndef mse(imageA, imageB) -\u003e float:\n\terr \u003d np.sum((imageA.astype(\"float\") - imageB.astype(\"float\")) ** 2)\n\terr /\u003d float(imageA.shape[0] * imageA.shape[1])\n\treturn\n\ndef gaussianNoise(image, var, mean \u003d 0):\n      row,col \u003d image.shape\n      sigma \u003d var**0.5\n      randomGaus \u003d np.random.normal(mean,sigma,(row,col))\n      gaussNoiseMatrix \u003d randomGaus.reshape(row,col)\n      noisy \u003d image + gaussNoiseMatrix\n      return noisy, gaussNoiseMatrix\n\nimagePepperMatrix \u003d mpimg.imread(\"./data/peppers.png\")\ngray__imagePepperMatrix \u003d cv2.cvtColor(\n    imagePepperMatrix, \n    # cv2.COLOR_BGR2GRAY\n    cv2.COLOR_RGB2GRAY\n)\nfig\u003dplt.figure(figsize\u003d(10, 10))\nfig.add_subplot(1, 2, 1)\nplt.title( \"grayscale \")\nplt.imshow(gray__imagePepperMatrix,  cmap\u003d\u0027gray\u0027 )\nnoised__gray__imagePepperMatrix, noiseMatrix\u003d  gaussianNoise(gray__imagePepperMatrix, 625, 0)\nfig.add_subplot(1, 2, 2)\nplt.title( \"grayscale noised \")\nplt.imshow(noised__gray__imagePepperMatrix,  cmap\u003d\u0027gray\u0027 )\nplt.show()",
      "metadata": {
        "pycharm": {
          "metadata": false,
          "name": "#%%\n",
          "is_executing": false
        }
      }
    },
    {
      "cell_type": "code",
      "execution_count": null,
      "outputs": [],
      "source": "#### 4.2 Plot the dependence between the k and MSE of k-rank approximation version of original image. Make a conclusion.\n\ndef grayscale_compress_svd(image,k):\n    \"\"\"\n    Perform svd decomposition and truncated (using k singular values/vectors) reconstruction\n    returns\n    --------\n      reconstructed matrix reconst_matrix, array of singular values s\n    \"\"\"\n    U,s,V \u003d np.linalg.svd(image,full_matrices\u003dFalse)\n    reconst_matrix \u003d np.dot(U[:,:k],np.dot(np.diag(s[:k]),V[:k,:]))   \n    return reconst_matrix,s\n\n\ndef grayscale_compress_show_color_images_layer(image, k):\n    \"\"\"\n     compress and display the reconstructed color image using the layer method \n    \"\"\"\n    original_shape \u003d image.shape\n    image_reconst_layers \u003d grayscale_compress_svd(image ,k)\n    image_reconst \u003d image_reconst_layers\n    return image_reconst[0]\n\nmses \u003d [\n    (\n        k,\n        mse(\n            gray__imagePepperMatrix,\n            grayscale_compress_show_color_images_layer(gray__imagePepperMatrix,k)\n        )\n    )\n    for k in range(1,384)\n]\nplt.plot(\n    [i[0] for i in mses],\n    [i[1] for i in mses]\n)\nplt.ylabel(\u0027k\u0027)\nplt.xlabel(\u0027mse\u0027)\nplt.show()\n\n",
      "metadata": {
        "pycharm": {
          "metadata": false,
          "name": "#%% \n"
        }
      }
    }
  ],
  "metadata": {
    "language_info": {
      "codemirror_mode": {
        "name": "ipython",
        "version": 2
      },
      "file_extension": ".py",
      "mimetype": "text/x-python",
      "name": "python",
      "nbconvert_exporter": "python",
      "pygments_lexer": "ipython2",
      "version": "2.7.6"
    },
    "kernelspec": {
      "name": "pycharm-670c054d",
      "language": "python",
      "display_name": "PyCharm (advanced_image_processing)"
    },
    "stem_cell": {
      "cell_type": "raw",
      "source": "",
      "metadata": {
        "pycharm": {
          "metadata": false
        }
      }
    }
  },
  "nbformat": 4,
  "nbformat_minor": 0
}