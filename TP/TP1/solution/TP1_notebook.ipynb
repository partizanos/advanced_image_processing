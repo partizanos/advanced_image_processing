{
  "cells": [
    {
      "cell_type": "code",
      "execution_count": null,
      "outputs": [],
      "source": "# otsu method from skimage \nimport matplotlib.pyplot as plt\nfrom skimage import data\nfrom skimage.filters import threshold_otsu\nimage \u003d data.camera()\nthresh \u003d threshold_otsu(image)\nbinary \u003d image \u003e thresh\n\nfig, axes \u003d plt.subplots(ncols\u003d3, figsize\u003d(8, 2.5))\nax \u003d axes.ravel()\nax[0] \u003d plt.subplot(1, 3, 1)\nax[1] \u003d plt.subplot(1, 3, 2)\nax[2] \u003d plt.subplot(1, 3, 3, sharex\u003dax[0], sharey\u003dax[0])\n\nax[0].imshow(image, cmap\u003dplt.cm.gray)\nax[0].set_title(\u0027Original\u0027)\nax[0].axis(\u0027off\u0027)\n\nax[1].hist(image.ravel(), bins\u003d256)\nax[1].set_title(\u0027Histogram\u0027)\nax[1].axvline(thresh, color\u003d\u0027r\u0027)\n\nax[2].imshow(binary, cmap\u003dplt.cm.gray)\nax[2].set_title(\u0027Thresholded\u0027)\nax[2].axis(\u0027off\u0027)\n\nplt.show()",
      "metadata": {
        "pycharm": {
          "metadata": false,
          "name": "#%% \n"
        }
      }
    },
    {
      "cell_type": "markdown",
      "source": "2. Report on what statistics work and why (not).",
      "metadata": {
        "pycharm": {
          "metadata": false,
          "name": "#%% md\n"
        }
      }
    }
  ],
  "metadata": {
    "kernelspec": {
      "display_name": "PyCharm (advanced_image_processing)",
      "language": "python",
      "name": "pycharm-670c054d"
    },
    "language_info": {
      "codemirror_mode": {
        "name": "ipython",
        "version": 3
      },
      "file_extension": ".py",
      "mimetype": "text/x-python",
      "name": "python",
      "nbconvert_exporter": "python",
      "pygments_lexer": "ipython3",
      "version": "3.5.2"
    },
    "stem_cell": {
      "cell_type": "raw",
      "source": "\n### Exercise 9. ex\n1. Implement the image segmentation and statistics gathering functions\n",
      "metadata": {
        "pycharm": {
          "metadata": false
        }
      }
    }
  },
  "nbformat": 4,
  "nbformat_minor": 1
}