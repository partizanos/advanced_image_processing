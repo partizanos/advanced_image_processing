{
  "cells": [
    {
      "cell_type": "markdown",
      "metadata": {
        "collapsed": true,
        "pycharm": {
          "name": "#%% md\n"
        }
      },
      "source": "### Noise Visibility Function (NVF)\n${NVF \u003d \\frac{1}{1 + \\theta \\sigma _{x} ^{2} (i, j)}}$\n\u003cbr\u003e\n${\\theta \u003d \\frac{D}{ \\sigma _{x_{max}} ^{2} }}$\n\n### Exercise 5. ex\n(a) Read the image lena.png and convert it to grayscale."
    },
    {
      "cell_type": "code",
      "execution_count": 1,
      "outputs": [],
      "source": "import matplotlib.pyplot as plt\nimport matplotlib.image as mpimg\nimport cv2 \nimport numpy as np\nimageLena \u003d mpimg.imread(\"./data/lena.png\")\ngray__imageLena \u003d cv2.cvtColor(\n    imageLena, \n    cv2.COLOR_RGB2GRAY\n    \n)\nplt.imshow(gray__imageLena,  cmap\u003d\u0027gray\u0027 )\n(h, w) \u003d gray__imageLena.shape[:2] \n",
      "metadata": {
        "pycharm": {
          "metadata": false,
          "name": "#%% \n",
          "is_executing": false
        }
      }
    },
    {
      "cell_type": "markdown",
      "source": "\n\n(b) Add a watermark to the image with and without applying NVF function the different\nvalues of ${σ ^z _2}$ (10, 25, 50, 75) and D. \n\u003cbr\u003e\nChoose the window size appropriate to used image.\n\n\u003cbr\u003e\n\nWhat can you say about the impact of NVF function?\n\n#### Solution \nI am confused if the watermarking means to put an image on top of the other with transparency,  or to hide data in the other image.\nTODO https://www.pyimagesearch.com/2016/04/25/watermarking-images-with-opencv-and-python/\n\nFistly after defining the noise visibillity function, \nI create a grayscale watermark image.\nThen I add a another dimension for the alpha transparency parameter.",
      "metadata": {
        "pycharm": {
          "metadata": false
        }
      }
    },
    {
      "cell_type": "code",
      "execution_count": null,
      "outputs": [],
      "source": "def theta(D, maxLocalVar):\n    return \n\ndef NVF(i, j, theta, variance_matrix):\n    return 1/(1+ theta* variance_matrix[i][j])\n\ndef embeddingEquation(i,j, NVF, x, z):\n    return x[i][j] + (1-NVF) * z[i][j]\n\nwatermark \u003d cv2.imread(\"./data/watermark.png\", cv2.IMREAD_UNCHANGED)\ngray__watermark  \u003d cv2.cvtColor(\n    watermark, \n    cv2.COLOR_RGB2GRAY\n)\n(wH, wW) \u003d gray__watermark.shape[:2]\ngray__watermark \u003d gray__watermark.astype(\"float32\")\n",
      "metadata": {
        "pycharm": {
          "metadata": false,
          "name": "#%%\n"
        }
      }
    },
    {
      "cell_type": "markdown",
      "source": "",
      "metadata": {
        "pycharm": {
          "metadata": false
        }
      }
    },
    {
      "cell_type": "code",
      "execution_count": null,
      "outputs": [],
      "source": "arr \u003d np.ones((wH, wW)) * 255\ngray_tansp \u003d np.dstack([gray__watermark, arr ])\ngray_tansp",
      "metadata": {
        "pycharm": {
          "metadata": false,
          "name": "#%%\n"
        }
      }
    },
    {
      "cell_type": "code",
      "execution_count": null,
      "outputs": [],
      "source": "output \u003d gray__imageLena.copy()\nh, w \u003d output.shape[:2]\nplt.imshow(gray__watermark,  cmap\u003d\u0027gray\u0027)\noverlay \u003d np.zeros((h, w), dtype\u003d\"uint8\")\noverlay[h - wH:h, w - wW:w] \u003d gray__watermark\noverlay \u003d overlay.astype(\"float32\")\n# overlay, output\nplt.imshow(overlay,  cmap\u003d\u0027gray\u0027)\nplt.show()\nplt.imshow(output,  cmap\u003d\u0027gray\u0027)\nplt.show()\nprint(output) \n# cv2.addWeighted(overlay, 0.25, output, 1.0, 0, output)\nprint(output) \nplt.imshow(output,  cmap\u003d\u0027gray\u0027)\nplt.show()\n# gray__watermark.shape, output.shape\n",
      "metadata": {
        "pycharm": {
          "metadata": false,
          "name": "#%%\n"
        }
      }
    },
    {
      "cell_type": "markdown",
      "source": "(c) Report the dependency between the parameters ${σ ^z _2}$ , D and original image.\n\n",
      "metadata": {
        "pycharm": {
          "metadata": false
        }
      }
    },
    {
      "cell_type": "markdown",
      "source": "",
      "metadata": {
        "pycharm": {
          "metadata": false
        }
      }
    }
  ],
  "metadata": {
    "language_info": {
      "codemirror_mode": {
        "name": "ipython",
        "version": 2
      },
      "file_extension": ".py",
      "mimetype": "text/x-python",
      "name": "python",
      "nbconvert_exporter": "python",
      "pygments_lexer": "ipython2",
      "version": "2.7.6"
    },
    "kernelspec": {
      "name": "python3",
      "language": "python",
      "display_name": "Python 3"
    }
  },
  "nbformat": 4,
  "nbformat_minor": 0
}