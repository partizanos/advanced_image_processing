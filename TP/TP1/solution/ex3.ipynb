{
  "cells": [
    {
      "cell_type": "code",
      "execution_count": null,
      "metadata": {
        "collapsed": true,
        "pycharm": {}
      },
      "outputs": [],
      "source": "## Low rank approximation via SVD\n"
    },
    {
      "cell_type": "markdown",
      "source": "### Exercise 3. Read the image peppers.png and convert it to grayscale. Perform its low-rank approximation for k \u003d 1, ..., n. \n",
      "metadata": {
        "pycharm": {
          "metadata": false
        }
      }
    },
    {
      "cell_type": "markdown",
      "source": "### Plot the dependence between the k and MSE of k-rank approximation version of original image. Make a conclusion.\n\n### Conclusion:\nAs we see in the experiment below each K component adds more of the \"information\" on the image.\nThis is consistent with the theory since the compoents include variance of the information.\nThis relationship is not linear since the first components are sorted to hold more of the variance observed in our data.\n",
      "metadata": {
        "pycharm": {
          "metadata": false
        }
      }
    },
    {
      "cell_type": "code",
      "execution_count": 1,
      "outputs": [
        {
          "name": "stderr",
          "text": [
            "Clipping input data to the valid range for imshow with RGB data ([0..1] for floats or [0..255] for integers).\n",
            "Clipping input data to the valid range for imshow with RGB data ([0..1] for floats or [0..255] for integers).\n",
            "Clipping input data to the valid range for imshow with RGB data ([0..1] for floats or [0..255] for integers).\n",
            "Clipping input data to the valid range for imshow with RGB data ([0..1] for floats or [0..255] for integers).\n",
            "Clipping input data to the valid range for imshow with RGB data ([0..1] for floats or [0..255] for integers).\n",
            "Clipping input data to the valid range for imshow with RGB data ([0..1] for floats or [0..255] for integers).\n",
            "Clipping input data to the valid range for imshow with RGB data ([0..1] for floats or [0..255] for integers).\n",
            "Clipping input data to the valid range for imshow with RGB data ([0..1] for floats or [0..255] for integers).\n",
            "Clipping input data to the valid range for imshow with RGB data ([0..1] for floats or [0..255] for integers).\n",
            "Clipping input data to the valid range for imshow with RGB data ([0..1] for floats or [0..255] for integers).\n",
            "Clipping input data to the valid range for imshow with RGB data ([0..1] for floats or [0..255] for integers).\n",
            "Clipping input data to the valid range for imshow with RGB data ([0..1] for floats or [0..255] for integers).\n",
            "Clipping input data to the valid range for imshow with RGB data ([0..1] for floats or [0..255] for integers).\n",
            "Clipping input data to the valid range for imshow with RGB data ([0..1] for floats or [0..255] for integers).\n",
            "Clipping input data to the valid range for imshow with RGB data ([0..1] for floats or [0..255] for integers).\n",
            "Clipping input data to the valid range for imshow with RGB data ([0..1] for floats or [0..255] for integers).\n",
            "Clipping input data to the valid range for imshow with RGB data ([0..1] for floats or [0..255] for integers).\n",
            "Clipping input data to the valid range for imshow with RGB data ([0..1] for floats or [0..255] for integers).\n",
            "Clipping input data to the valid range for imshow with RGB data ([0..1] for floats or [0..255] for integers).\n"
          ],
          "output_type": "stream"
        },
        {
          "data": {
            "text/plain": "\u003cFigure size 640x480 with 1 Axes\u003e"
          },
          "metadata": {},
          "output_type": "display_data"
        },
        {
          "data": {
            "text/plain": "\u003cFigure size 800x800 with 20 Axes\u003e"
          },
          "metadata": {},
          "output_type": "display_data"
        },
        {
          "data": {
            "text/plain": "\u003cFigure size 640x480 with 1 Axes\u003e"
          },
          "metadata": {},
          "output_type": "display_data"
        }
      ],
      "source": "import matplotlib.pyplot as plt\nimport matplotlib.image as mpimg\nimport numpy as np\nimagePepperMatrix \u003d mpimg.imread(\"./data/peppers.png\")\nplt.imshow(imagePepperMatrix)\nU, S, VT \u003d np.linalg.svd(imagePepperMatrix)\n\ndef mse(imageA, imageB) -\u003e float:\n\terr \u003d np.sum((imageA.astype(\"float\") - imageB.astype(\"float\")) ** 2)\n\terr /\u003d float(imageA.shape[0] * imageA.shape[1])\n\treturn err\n\n\ndef compress_svd(image,k):\n    \"\"\"\n    Perform svd decomposition and truncated (using k singular values/vectors) reconstruction\n    returns\n    --------\n      reconstructed matrix reconst_matrix, array of singular values s\n    \"\"\"\n    U,s,V \u003d np.linalg.svd(image,full_matrices\u003dFalse)\n    reconst_matrix \u003d np.dot(U[:,:k],np.dot(np.diag(s[:k]),V[:k,:]))\n   \n    return reconst_matrix,s\n\n\ndef compress_show_color_images_layer(image, k):\n    \"\"\"\n     compress and display the reconstructed color image using the layer method \n    \"\"\"\n    original_shape \u003d image.shape\n    image_reconst_layers \u003d [compress_svd(image[:,:,i],k)[0] for i in range(3)]\n    image_reconst \u003d np.zeros(image.shape)\n    for i in range(3):\n        image_reconst[:,:,i] \u003d image_reconst_layers[i]\n    return image_reconst\n\nfig\u003dplt.figure(figsize\u003d(8, 8))\ncolumns \u003d 4\nrows \u003d 5\nk\u003d1\nfor i in range(1, columns*rows +1):\n    fig.add_subplot(rows, columns, i)\n    img \u003d compress_show_color_images_layer(imagePepperMatrix,k)\n    plt.imshow(img)\n    k+\u003d 1\n\nplt.show()\n\n\n\nmses \u003d [\n    (\n        k,\n        mse(\n            imagePepperMatrix,\n            compress_show_color_images_layer(imagePepperMatrix,k)\n        )\n    )\n    for k in range(1,384)\n]\nplt.plot(\n    [i[0] for i in mses],\n    [i[1] for i in mses]\n)\nplt.ylabel(\u0027k\u0027)\nplt.xlabel(\u0027mse\u0027)\nplt.show()",
      "metadata": {
        "pycharm": {
          "metadata": false,
          "name": "#%%\n",
          "is_executing": false
        }
      }
    }
  ],
  "metadata": {
    "language_info": {
      "codemirror_mode": {
        "name": "ipython",
        "version": 2
      },
      "file_extension": ".py",
      "mimetype": "text/x-python",
      "name": "python",
      "nbconvert_exporter": "python",
      "pygments_lexer": "ipython2",
      "version": "2.7.6"
    },
    "kernelspec": {
      "name": "pycharm-670c054d",
      "language": "python",
      "display_name": "PyCharm (advanced_image_processing)"
    }
  },
  "nbformat": 4,
  "nbformat_minor": 0
}