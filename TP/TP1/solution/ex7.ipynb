{
  "cells": [
    {
      "cell_type": "markdown",
      "metadata": {
        "collapsed": true,
        "pycharm": {
          "name": "#%% md\n"
        }
      },
      "source": "###  TODO  Exercise 7. ex\nRENOIR\n### You are given a ”renoir” set of two images (reference and noisy) from the RENOIR dataset 2 .\n(a) Visualise all color channels of both images. \nAre the all channels equally affected by the noise?\n\u003cbr\u003e"
    },
    {
      "cell_type": "code",
      "execution_count": null,
      "outputs": [
        {
          "name": "stderr",
          "text": [
            "/usr/local/lib/python3.5/dist-packages/ipykernel_launcher.py:6: DeprecationWarning: `imread` is deprecated!\n`imread` is deprecated in SciPy 1.0.0.\nUse ``matplotlib.pyplot.imread`` instead.\n  \n",
            "/usr/local/lib/python3.5/dist-packages/ipykernel_launcher.py:7: DeprecationWarning: `imread` is deprecated!\n`imread` is deprecated in SciPy 1.0.0.\nUse ``matplotlib.pyplot.imread`` instead.\n  import sys\n"
          ],
          "output_type": "stream"
        },
        {
          "data": {
            "text/plain": "\u003cFigure size 640x480 with 1 Axes\u003e"
          },
          "metadata": {},
          "output_type": "display_data"
        },
        {
          "data": {
            "text/plain": "\u003cFigure size 640x480 with 1 Axes\u003e"
          },
          "metadata": {},
          "output_type": "display_data"
        }
      ],
      "source": "import scipy.ndimage as ndimage\nimport matplotlib.pyplot as plt\nimport cv2\nimport numpy as np\n\nim1 \u003d ndimage.imread(\"./data/renoir/Noisy.bmp\")\nim2 \u003d ndimage.imread(\"./data/renoir/Reference.bmp\", -1)\n\nplt.imshow(im1)\nplt.show()\nplt.imshow(im2)\nplt.show()\n\nred_images \u003d im1[:,:,0]\ngreen_images \u003d im1[:,:,1]\nblue_images \u003d im1[:,:,2]\n\nimg \u003d cv2.imread(\u0027home.jpg\u0027,0)\nplt.hist(red_images,256,[0,256]); \nplt.show()\n\nplt.plot(\n    np.ndarray.flatten(green_images)\n)\nplt.show()\nplt.plot(\n    np.ndarray.flatten(blue_images)\n)\nplt.show()\n    \nplt.ylabel(\u0027pixel \u0027)\nplt.xlabel(\u0027value \u0027)\nplt.show()\nplt.plot(\n    np.ndarray.flatten(im2)\n)\nplt.show()\n",
      "metadata": {
        "pycharm": {
          "metadata": false,
          "name": "#%%\n",
          "is_executing": true
        }
      }
    },
    {
      "cell_type": "markdown",
      "source": "(b) Try to decrease the noise via image down/up sampling.\n\u003cbr\u003e",
      "metadata": {
        "pycharm": {
          "metadata": false
        }
      }
    },
    {
      "cell_type": "code",
      "execution_count": null,
      "outputs": [],
      "source": "",
      "metadata": {
        "pycharm": {
          "metadata": false,
          "name": "#%%\n"
        }
      }
    },
    {
      "cell_type": "markdown",
      "source": "(a) Do it for the RGB image. Measure the PSNR between the reference and de-noised\nimages 3 .\n\u003cbr\u003e",
      "metadata": {
        "pycharm": {
          "metadata": false
        }
      }
    },
    {
      "cell_type": "code",
      "execution_count": null,
      "outputs": [],
      "source": "",
      "metadata": {
        "pycharm": {
          "metadata": false,
          "name": "#%%\n"
        }
      }
    },
    {
      "cell_type": "markdown",
      "source": "(b) Do it for the grayscale image. Measure the PSNR between the grayscale reference\nand de-noised images.\n\u003cbr\u003e",
      "metadata": {
        "pycharm": {
          "metadata": false
        }
      }
    },
    {
      "cell_type": "code",
      "execution_count": null,
      "outputs": [],
      "source": "",
      "metadata": {
        "pycharm": {
          "metadata": false,
          "name": "#%%\n"
        }
      }
    },
    {
      "cell_type": "markdown",
      "source": "(c) Do the denoising for the RGB image and after convert it to the grayscale. Measure\nthe PSNR. Does the obtained result is different from the (b)? Explain the r\n\u003cbr\u003e",
      "metadata": {
        "pycharm": {
          "metadata": false
        }
      }
    }
  ],
  "metadata": {
    "language_info": {
      "codemirror_mode": {
        "name": "ipython",
        "version": 2
      },
      "file_extension": ".py",
      "mimetype": "text/x-python",
      "name": "python",
      "nbconvert_exporter": "python",
      "pygments_lexer": "ipython2",
      "version": "2.7.6"
    },
    "kernelspec": {
      "name": "pycharm-670c054d",
      "language": "python",
      "display_name": "PyCharm (advanced_image_processing)"
    }
  },
  "nbformat": 4,
  "nbformat_minor": 0
}