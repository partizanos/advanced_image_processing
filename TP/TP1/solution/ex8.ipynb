{
  "cells": [
    {
      "cell_type": "markdown",
      "metadata": {
        "collapsed": true,
        "pycharm": {
          "name": "#%% md\n"
        }
      },
      "source": "\nExercise 8. You are given a set of 4 images: tp1 101.png - tp1 104.png. For one of these\nimages perform the segmentation of the text information. See the example in Figure 3. Some\ngraphical elements can be segmented as well.\n"
    },
    {
      "cell_type": "code",
      "execution_count": null,
      "outputs": [],
      "source": "#TODO https://scikit-image.org/docs/dev/auto_examples/edges/plot_edge_filter.html\nimport numpy as np\nimport matplotlib.pyplot as plt\n\nfrom skimage.filters import gaussian, frangi\nimage \u003d cv2.imread(\"./data/tp1_101.png\")\nimage.shape\nedge_gaussian \u003d gaussian(image)\nedge_frangi \u003d frangi(image, gamma\u003d50)\nfig, ax \u003d plt.subplots(ncols\u003d3, sharex\u003dTrue, sharey\u003dTrue,\n                       figsize\u003d(8, 4))\nax[0].imshow(image)\nax[0].set_title(\u0027original image \u0027)\nax[1].imshow(edge_gaussian)\nax[1].set_title(\u0027Gaussian Edge Detection\u0027)\nax[2].imshow(edge_frangi)\nax[2].set_title(\u0027frangi Edge Detection\u0027)\n\n\nfor a in ax:\n    a.axis(\u0027off\u0027)\n\nplt.tight_layout()\nplt.show()\n",
      "metadata": {
        "pycharm": {
          "metadata": false,
          "name": "#%%\n"
        }
      }
    }
  ],
  "metadata": {
    "language_info": {
      "codemirror_mode": {
        "name": "ipython",
        "version": 2
      },
      "file_extension": ".py",
      "mimetype": "text/x-python",
      "name": "python",
      "nbconvert_exporter": "python",
      "pygments_lexer": "ipython2",
      "version": "2.7.6"
    },
    "kernelspec": {
      "name": "python3",
      "language": "python",
      "display_name": "Python 3"
    }
  },
  "nbformat": 4,
  "nbformat_minor": 0
}