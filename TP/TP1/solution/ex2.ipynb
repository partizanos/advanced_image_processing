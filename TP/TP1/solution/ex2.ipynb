{
  "cells": [
    {
      "cell_type": "markdown",
      "metadata": {
        "collapsed": true,
        "pycharm": {
          "is_executing": false,
          "name": "#%% md\n"
        }
      },
      "source": "## Exercise 2 \n### 2.a) Refractor the PNSR definition such that the PSNR is expressed as a function of the noise variance $σ_z ^2 $. You may assume that $σ_z ^2  \u003d MSE(x, y)$ \n- PSNR original definition \n    \u003cbr\u003e \n    \n    (1) $ PSNR \u003d 10 \\log_{10} \\frac{a^2}{MSE(x,y)} $ \n    \u003cbr\u003e\n    \n    (2) $MSE(x,y) \u003d \\sigma _{z} ^2 $\n    \u003cbr\u003e\n    \n    (1) (2) $ PSNR \u003d 10 \\log_{10} \\frac{a^2}{\\sigma _{z} ^2} $ \n    \u003cbr\u003e \n    \n     $ PSNR \u003d 20 \\log_{10} a - 10\\log_{10}{\\sigma _{z} ^2}  $ \n    \u003cbr\u003e \n    \n     $ PSNR - 20 \\log_{10} a  \u003d 10\\log_{10}{\\sigma _{z} ^2}  $ \n    \u003cbr\u003e \n    \n     $ \\frac{PSNR - 20 \\log_{10} a }{10} \u003d \\log_{10}{\\sigma _{z} ^2}  $ \n    \u003cbr\u003e \n    \n     (3) $ 10^ {\\frac{PSNR - 20 \\log_{10} a }{10}} \u003d \\sigma _{z} ^2  $ \n    \n    This relationship above is used in 2.b.\n\n\n### 2.b) Add Gaussian noise to an image such that the PSNR ratio with the original image is 10dB, 20dB, 30dB and 40dB. Use randn, not imnoise.\n- Noise function:\n$Z_i\u003d N(\\mu, \\sigma ^2 )$\n"
    },
    {
      "cell_type": "markdown",
      "source": "### 2.c) Show the noisy images on the screen. How do they look?\n\nThey look bad the more db we have \n\n\n### 2.d) Show the histograms for these noisy images, can you explain what you see?\nThe more noisy the image the higher the difference wiht the original graph.\nWe see the count for every pixel value of the image.\nOriginal image: \n\n### 2.e \nIs imlemented below \n\n### 2.e.2) Visually compare it to the 40dB noisy image to which Gaussian noise was added. What can you conclude?\nWith salt and pepper noise function the picture is barely modified at 40db.\nWhile with gaussia noise it is geavily modified.\n\nTo validate that the salt and pper nois is coorectly implemented I will try to augmenta the noise heavily.\n",
      "metadata": {
        "pycharm": {
          "metadata": false
        }
      }
    },
    {
      "cell_type": "code",
      "execution_count": 2,
      "outputs": [
        {
          "name": "stdout",
          "text": [
            "original image\n",
            "DB:  10\nvariance:  0.00015378700499807824\n",
            "DB:  20\nvariance:  0.0015378700499807825\n",
            "DB:  30\nvariance:  0.015378700499807824\n",
            "DB:  40\nvariance:  0.1537870049980782\n",
            "mse:  6.776918492823697e-05\npsnr:  41.689677376637626\n",
            "mse:  0.0944051027093106\npsnr:  10.250045309285792\n"
          ],
          "output_type": "stream"
        },
        {
          "data": {
            "text/plain": "\u003cFigure size 640x480 with 1 Axes\u003e"
          },
          "metadata": {},
          "output_type": "display_data"
        },
        {
          "data": {
            "text/plain": "\u003cFigure size 640x480 with 1 Axes\u003e"
          },
          "metadata": {},
          "output_type": "display_data"
        },
        {
          "data": {
            "text/plain": "\u003cFigure size 640x480 with 1 Axes\u003e"
          },
          "metadata": {},
          "output_type": "display_data"
        },
        {
          "data": {
            "text/plain": "\u003cFigure size 640x480 with 1 Axes\u003e"
          },
          "metadata": {},
          "output_type": "display_data"
        },
        {
          "data": {
            "text/plain": "\u003cFigure size 640x480 with 1 Axes\u003e"
          },
          "metadata": {},
          "output_type": "display_data"
        },
        {
          "data": {
            "text/plain": "\u003cFigure size 640x480 with 1 Axes\u003e"
          },
          "metadata": {},
          "output_type": "display_data"
        },
        {
          "data": {
            "text/plain": "\u003cFigure size 640x480 with 1 Axes\u003e"
          },
          "metadata": {},
          "output_type": "display_data"
        },
        {
          "data": {
            "text/plain": "\u003cFigure size 640x480 with 1 Axes\u003e"
          },
          "metadata": {},
          "output_type": "display_data"
        },
        {
          "data": {
            "text/plain": "\u003cFigure size 640x480 with 1 Axes\u003e"
          },
          "metadata": {},
          "output_type": "display_data"
        },
        {
          "data": {
            "text/plain": "\u003cFigure size 640x480 with 1 Axes\u003e"
          },
          "metadata": {},
          "output_type": "display_data"
        },
        {
          "data": {
            "text/plain": "\u003cFigure size 640x480 with 1 Axes\u003e"
          },
          "metadata": {},
          "output_type": "display_data"
        },
        {
          "data": {
            "text/plain": "\u003cFigure size 640x480 with 1 Axes\u003e"
          },
          "metadata": {},
          "output_type": "display_data"
        },
        {
          "data": {
            "text/plain": "\u003cFigure size 640x480 with 1 Axes\u003e"
          },
          "metadata": {},
          "output_type": "display_data"
        },
        {
          "data": {
            "text/plain": "\u003cFigure size 640x480 with 1 Axes\u003e"
          },
          "metadata": {},
          "output_type": "display_data"
        }
      ],
      "source": "#2b\nimport cv2\nimport numpy as np\nimport math \nimport matplotlib.pyplot as plt\n\ndef readTifGrayScale(path):\n    img \u003d cv2.imread(path, -1)\n    return img\n\ndef showTifGrayScale(img, title \u003d \"\"):\n    plt.imshow(img, cmap \u003d \u0027gray\u0027, interpolation \u003d \u0027bicubic\u0027)\n    plt.xticks([]), plt.yticks([])  # to hide tick values on X and Y axis\n    plt.title(title)\n    plt.show()\n\ndef mse(imageA, imageB) -\u003e float:\n\terr \u003d np.sum((imageA.astype(\"float\") - imageB.astype(\"float\")) ** 2)\n\terr /\u003d float(imageA.shape[0] * imageA.shape[1])\n\treturn err\nPSNRs \u003d [10, 20, 30, 40]\ngetVarianceForPSNR \u003d lambda db: 10**((db-20 * math.log(255, 10))/10)\nvarianceList \u003d [(db, getVarianceForPSNR(db)) for db in PSNRs ]\nvarianceList\n\ndef gaussianNoise(image, var, mean \u003d 0):\n      row,col \u003d image.shape\n      sigma \u003d var**0.5\n      randomGaus \u003d np.random.normal(mean,sigma,(row,col))\n      gaussNoiseMatrix \u003d randomGaus.reshape(row,col)\n      noisy \u003d image + gaussNoiseMatrix\n      return noisy, gaussNoiseMatrix\n\nimgCam \u003d readTifGrayScale(\u0027./data/cameraman.tif\u0027)\nimgCam_double \u003d np.array(imgCam).astype(\"float32\")\nimgCam_double \u003d np.interp(\n    imgCam_double, \n    (imgCam_double.min(), imgCam_double.max()), \n    (0, 1)\n)\n\nprint(\"original image\")\nshowTifGrayScale(imgCam, \"original\")\n\n\n\n### 2.c) Show the noisy images on the screen. How do they look?\n\ndef experiment(db, variance, img):\n    print(\"DB: \",db)\n    print(\"variance: \", variance)\n    noisedImgArray, gaussNoiseMatrix \u003d gaussianNoise(img, variance)\n    showTifGrayScale(noisedImgArray, \"gaussian noise :\" + str(db))\n    return noisedImgArray\n    \nnoised_images \u003d [(db, experiment(db,var, imgCam_double )) for db,var in iter(varianceList)]\n\n\n### 2.d) Show the histograms for these noisy images, can you explain what you see?\ndef convertBack(im):\n    imconv\u003d np.interp(\n        im, \n        (im.min(), im.max()), \n        (0, 255)\n    )\n    imconv \u003d imconv.astype(\"uint8\")\n    return imconv\n\ndef hist(img):\n    imconv \u003d convertBack(img)\n    hist , bins \u003d np.histogram(imconv.ravel(),256,[0,256])\n    plt.hist(hist, bins\u003d bins)\n    plt.show()\n\n\nhist(imgCam_double)\n[ hist(im) for db, im in iter(noised_images)]\n\n### 2.e.1) Add salt \u0026 pepper Noise to an image until the PSNR ratio between the original and the noisy image is 40 dB. \nimport copy \ndef psnr(mseres):\n    PIXEL_MAX_SQUARE \u003d 1\n    mse_square \u003d math.sqrt(mseres )\n    part1 \u003d  math.log10(PIXEL_MAX_SQUARE / mse_square)\n    return 20 * part1\n\nimgCam \u003d readTifGrayScale(\u0027./data/cameraman.tif\u0027)\nimgCam_double \u003d np.array(imgCam).astype(\"float32\")\nimgCam_double \u003d np.interp(\n    imgCam_double, \n    (imgCam_double.min(), imgCam_double.max()), \n    (0, 1)\n)\n\ndef get_img_with_pepper_salt_noise(img, p, q):\n    im \u003d copy.deepcopy(img)\n    randnums \u003d np.random.rand(256,256)\n    im[np.logical_and(randnums \u003e p, randnums \u003c q)] \u003d 1\n    im[ randnums \u003c\u003d p] \u003d 0\n    return im \n\npepperedImg \u003d get_img_with_pepper_salt_noise(imgCam_double, p\u003d0.00015, q\u003d0.0003)\nmseNum  \u003d mse(imgCam_double,pepperedImg)\nprint(\"mse: \", mseNum)\nprint(\"psnr: \", psnr(mseNum))\nshowTifGrayScale(noised_images[3][1], \"gaussian image\")\nshowTifGrayScale(pepperedImg, \"Peppered image\")\nshowTifGrayScale(imgCam_double, \"Original image\")\n\n### 2.e.2) Visually compare it to the 40dB noisy image to which Gaussian noise was added. What can you conclude?\npepperedImg \u003d get_img_with_pepper_salt_noise(imgCam_double, p\u003d0.15, q\u003d0.3)\nmseNum  \u003d mse(imgCam_double,pepperedImg)\nprint(\"mse: \", mseNum)\nprint(\"psnr: \", psnr(mseNum))\nshowTifGrayScale(pepperedImg, \"Peppered image\")\n",
      "metadata": {
        "pycharm": {
          "metadata": false,
          "name": "#%%\n",
          "is_executing": false
        }
      }
    }
  ],
  "metadata": {
    "language_info": {
      "codemirror_mode": {
        "name": "ipython",
        "version": 2
      },
      "file_extension": ".py",
      "mimetype": "text/x-python",
      "name": "python",
      "nbconvert_exporter": "python",
      "pygments_lexer": "ipython2",
      "version": "2.7.6"
    },
    "kernelspec": {
      "name": "pycharm-670c054d",
      "language": "python",
      "display_name": "PyCharm (advanced_image_processing)"
    }
  },
  "nbformat": 4,
  "nbformat_minor": 0
}