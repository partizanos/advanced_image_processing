{
 "cells": [
  {
   "cell_type": "markdown",
   "metadata": {
    "pycharm": {
     "metadata": false,
     "name": "#%% md\n"
    }
   },
   "source": [
    "## TODO Nuts and bolts\n",
    "In this little project you will design and test a program that can \n",
    "recognize various nuts and bolts in an image using Matlab’s morphological \n",
    "functions and a bit of statistics. \n",
    "\n",
    "The image can be seen in Figure 4. Matlab contains an excellent tutorial \n",
    "segmenting and counting rice in an\n",
    "image, which you can work through as preparation.\n",
    "The principle steps that need to be done are the following:\n",
    "- Segment the foreground which contains all parts, from the background. You can use\n",
    "4\n",
    "http://www.mathworks.ch/ch/help/images/image-enhancement-and-analysis.html\n",
    "morphological opening, e.g. imopen to ascertain background statistics or use the so called\n",
    "Otsi’s method implemented by Matlab graythresh.\n",
    "- Use morphology to remove any noise from the image\n",
    "- Select all individual items using Matlab’s bwlabel and bwconncomp.\n",
    "- To gather statistics deploy Matlab’s regionprops function. It is capable of collecting a\n",
    "vast amount of information on binary objects which in term can be used to distinguish\n",
    "the various parts from each other.\n",
    "- Find a combination of metrics to separate the different parts as best as possible.\n",
    "\n",
    "\n",
    "### Exercise 9. ex\n",
    "1. Implement the image segmentation and statistics gathering functions\n"
   ]
  },
  {
   "cell_type": "code",
   "execution_count": null,
   "metadata": {
    "pycharm": {
     "metadata": false,
     "name": "#%% \n"
    }
   },
   "outputs": [],
   "source": [
    "# otsu method from skimage \n",
    "import matplotlib.pyplot as plt\n",
    "from skimage import data\n",
    "from skimage.filters import threshold_otsu\n",
    "image = data.camera()\n",
    "thresh = threshold_otsu(image)\n",
    "binary = image > thresh\n",
    "\n",
    "fig, axes = plt.subplots(ncols=3, figsize=(8, 2.5))\n",
    "ax = axes.ravel()\n",
    "ax[0] = plt.subplot(1, 3, 1)\n",
    "ax[1] = plt.subplot(1, 3, 2)\n",
    "ax[2] = plt.subplot(1, 3, 3, sharex=ax[0], sharey=ax[0])\n",
    "\n",
    "ax[0].imshow(image, cmap=plt.cm.gray)\n",
    "ax[0].set_title('Original')\n",
    "ax[0].axis('off')\n",
    "\n",
    "ax[1].hist(image.ravel(), bins=256)\n",
    "ax[1].set_title('Histogram')\n",
    "ax[1].axvline(thresh, color='r')\n",
    "\n",
    "ax[2].imshow(binary, cmap=plt.cm.gray)\n",
    "ax[2].set_title('Thresholded')\n",
    "ax[2].axis('off')\n",
    "\n",
    "plt.show()"
   ]
  },
  {
   "cell_type": "markdown",
   "metadata": {
    "pycharm": {
     "metadata": false
    }
   },
   "source": [
    "2. Report on what statistics work and why (not)."
   ]
  }
 ],
 "metadata": {
  "kernelspec": {
   "display_name": "Python 3",
   "language": "python",
   "name": "python3"
  },
  "language_info": {
   "codemirror_mode": {
    "name": "ipython",
    "version": 3
   },
   "file_extension": ".py",
   "mimetype": "text/x-python",
   "name": "python",
   "nbconvert_exporter": "python",
   "pygments_lexer": "ipython3",
   "version": "3.7.3"
  },
  "stem_cell": {
   "cell_type": "raw",
   "metadata": {
    "pycharm": {
     "metadata": false
    }
   },
   "source": ""
  }
 },
 "nbformat": 4,
 "nbformat_minor": 1
}
