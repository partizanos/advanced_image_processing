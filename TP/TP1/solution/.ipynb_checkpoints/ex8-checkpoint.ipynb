{
 "cells": [
  {
   "cell_type": "markdown",
   "metadata": {
    "collapsed": true,
    "pycharm": {
     "name": "#%% md\n"
    }
   },
   "source": [
    "\n",
    "Exercise 8. You are given a set of 4 images: tp1 101.png - tp1 104.png. For one of these\n",
    "images perform the segmentation of the text information. See the example in Figure 3. Some\n",
    "graphical elements can be segmented as well.\n"
   ]
  },
  {
   "cell_type": "code",
   "execution_count": null,
   "metadata": {
    "pycharm": {
     "metadata": false,
     "name": "#%%\n"
    }
   },
   "outputs": [],
   "source": [
    "#TODO https://scikit-image.org/docs/dev/auto_examples/edges/plot_edge_filter.html\n",
    "import numpy as np\n",
    "import matplotlib.pyplot as plt\n",
    "\n",
    "from skimage.filters import gaussian, frangi\n",
    "image = cv2.imread(\"./data/tp1_101.png\")\n",
    "image.shape\n",
    "edge_gaussian = gaussian(image)\n",
    "edge_frangi = frangi(image, gamma=50)\n",
    "fig, ax = plt.subplots(ncols=3, sharex=True, sharey=True,\n",
    "                       figsize=(8, 4))\n",
    "ax[0].imshow(image)\n",
    "ax[0].set_title('original image ')\n",
    "ax[1].imshow(edge_gaussian)\n",
    "ax[1].set_title('Gaussian Edge Detection')\n",
    "ax[2].imshow(edge_frangi)\n",
    "ax[2].set_title('frangi Edge Detection')\n",
    "\n",
    "\n",
    "for a in ax:\n",
    "    a.axis('off')\n",
    "\n",
    "plt.tight_layout()\n",
    "plt.show()\n"
   ]
  }
 ],
 "metadata": {
  "kernelspec": {
   "display_name": "Python 3",
   "language": "python",
   "name": "python3"
  },
  "language_info": {
   "codemirror_mode": {
    "name": "ipython",
    "version": 3
   },
   "file_extension": ".py",
   "mimetype": "text/x-python",
   "name": "python",
   "nbconvert_exporter": "python",
   "pygments_lexer": "ipython3",
   "version": "3.7.3"
  }
 },
 "nbformat": 4,
 "nbformat_minor": 1
}
