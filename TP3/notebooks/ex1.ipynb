{
  "cells": [
    {
      "cell_type": "markdown",
      "metadata": {
        "collapsed": true,
        "pycharm": {
          "name": "#%% md\n"
        }
      },
      "source": "Exercise 1. ...\nRead data:\n"
    },
    {
      "cell_type": "markdown",
      "source": "## Setting configuration and installing requirements for the notebook",
      "metadata": {
        "pycharm": {
          "metadata": false,
          "name": "#%% md\n"
        }
      }
    },
    {
      "cell_type": "code",
      "execution_count": 55,
      "metadata": {
        "pycharm": {}
      },
      "outputs": [
        {
          "data": {
            "text/html": [
              "\u003cstyle\u003etable { font-size: 2.5rem;width:100% !important; }\u003c/style\u003e"
            ],
            "text/plain": [
              "\u003cIPython.core.display.HTML object\u003e"
            ]
          },
          "metadata": {},
          "output_type": "display_data"
        }
      ],
      "source": "from IPython.core.display import display, HTML\ndisplay(HTML(\"\u003cstyle\u003etable { font-size: 2.5rem;width:100% !important; }\u003c/style\u003e\"))\nimport numpy as np \nimport matplotlib.pyplot as plt\nimport scipy\n"
    },
    {
      "cell_type": "markdown",
      "metadata": {
        "pycharm": {
          "metadata": false
        }
      },
      "source": "### (a) Derive the entropy for the i.i.d. Laplacian and Gaussian distributions with the same variance.\n\n\n|  Entropy | $ H(x) \u003d - \\sum_{x} P(x) \\log_2 {P(x))} $ |\n|------    |                            ------|\n| Laplacian PDF | $ P(x) \u003d \\frac{1}{2b}  e^{- \\frac{\\left\\vert x - \\mu  \\right\\vert } {b}} $\t\n|Laplacian entropy  | ${\\displaystyle \\log(2be)}$ |\n|Laplacian variance  | $ 2b^{2}$ |\n|Gasussian PDF | $ P(x) \u003d \\frac{1}{ \\sqrt{ 2 \\pi \\sigma ^2}}  e^{ \\frac{( x - \\mu ) ^2} {2 \\sigma ^ 2}}  $\n|Gasussian Entropy | ${\\displaystyle {\\frac {1}{2}}\\log(2\\pi e\\sigma ^{2})}$ |\n|Gasussian variance | ${\\sigma ^{2}}$ |\n\n- When the variance is same among Gaussian and Laplacian probabillity distribution functions we have:\n$$ 2b^{2} \u003d {\\sigma ^{2}} $$ or \n$$ b^{2} \u003d \\frac{\\sigma ^{2}}{2} $$\n\n\n\n- Laplacian Entropy can be expressed as \n\n$${\\displaystyle \\log_{2}(2be)}\u003d $$ \n$${\\displaystyle \\log_{2}(2) + \\log_{2}(b) + \\log_{2}(e)} \u003d $$\n\u003cbr\u003e\nGaussian entropy (a) \u003d  $${\\displaystyle 1 + \\log_{2}(b) + \\log_{2}(e)}$$\n\n\n- Laplacian  Entropy can be expressed as \n\n$$ {\\displaystyle {\\frac {1}{2}}\\log_{2}(2\\pi e\\sigma ^{2})} \u003d $$ \n$${\\displaystyle {\\frac {1}{2}}\\log_{2}(2\\pi e2b^{2} )}  \u003d $$\n$${\\displaystyle {\\frac {1}{2}}\\log_{2}(4\\pi eb^{2} )}  \u003d $$ \n\u003cbr\u003e\n$${\\displaystyle {\\frac {1}{2}}( \\log_{2}(4) + \\log_{2}(\\pi  ) + \\log_{2}(e) + \\log_{2}(b^{2}) })\u003d $$\n\u003cbr\u003e\n$${\\displaystyle {\\frac {1}{2}}( 1 + \\log_{2}(\\pi  ) + \\log_{2}(e) + 2\\log_{2}(b) }) \u003d $$\n\u003cbr\u003e\nGaussian entropy (b) \u003d $${\\displaystyle \\frac {1}{2} + \\frac {\\log_{2}(\\pi) }{2} + \\frac{\\log_{2}(e)}{2} + \\log_{2}(b) }$$\n\n### We notice by comparing (a) and (b)  that Laplacian entropy is larger \n\u003cbr\u003e\n\n$${\\displaystyle 1 + \\log_{2}(b) + \\log_{2}(e)} \u003e $$ \n$${\\displaystyle \\frac {1}{2} + \\frac {\\log_{2}(\\pi) }{2} + \\frac{\\log_{2}(e)}{2} + \\log_{2}(b) }$$\n\u003cbr\u003e\n\n$${\\displaystyle \\frac {1}{2} + \\frac{\\log_{2}(e)}{2}}  \u003e $$ \n$${\\displaystyle  \\frac {\\log_{2}(\\pi) }{2}   }$$\n\u003cbr\u003e\n\n$${ \\displaystyle 1+  \\log_{2}(e)  \u003e \\log_{2}(\\pi)    }$$\n\n\u003cbr\u003e\n\n$$ {\\displaystyle 2e \u003e \\pi  }  $$\n### The above result is also proved with the following mini experiment"
    },
    {
      "cell_type": "code",
      "execution_count": null,
      "metadata": {
        "pycharm": {
          "is_executing": true,
          "metadata": false,
          "name": "#%% \n"
        }
      },
      "outputs": [
        {
          "data": {
            "text/plain": "\u003cFigure size 432x288 with 1 Axes\u003e",
            "image/png": "[encoded data removed]"
          },
          "metadata": {
            "needs_background": "light"
          },
          "output_type": "display_data"
        }
      ],
      "source": "loc, scale \u003d 0., 500.\ns \u003d np.random.laplace(loc, scale, 1000)\ncount, bins, ignored \u003d plt.hist(s, 30, density\u003dTrue)\nn\u003d10000\nx \u003d np.arange(-10000., 10000., .01)\n# Laplace PDF\nlaplace_pdf \u003d np.exp(-abs(x-loc)/scale)/(2.*scale)\nplt.plot(x, laplace_pdf)\nplt.show()\n# Gaussian PDF\ngaussian_pdf \u003d ( 1/(scale * np.sqrt(2 * np.pi))  * np.exp(-(x - loc)**2 / (2 * scale**2)))\nplt.plot(x, gaussian_pdf)\nplt.show()\nplt.plot(x, laplace_pdf)\nplt.plot(x, gaussian_pdf)\nplt.show()"
    },
    {
      "cell_type": "markdown",
      "metadata": {
        "pycharm": {
          "metadata": false
        }
      },
      "source": "#Entropy of gaussian\n"
    },
    {
      "cell_type": "code",
      "execution_count": 20,
      "outputs": [
        {
          "name": "stdout",
          "text": [
            "123\n"
          ],
          "output_type": "stream"
        },
        {
          "data": {
            "text/plain": "array([1.000e-04, 2.000e-04, 3.000e-04, ..., 9.987e-01, 9.988e-01,\n       9.989e-01])"
          },
          "metadata": {},
          "output_type": "execute_result",
          "execution_count": 20
        }
      ],
      "source": "#x \u003d np.arange(0.0001, 0.999, .0001)\n#x",
      "metadata": {
        "pycharm": {
          "metadata": false,
          "name": "#%% \n",
          "is_executing": false
        }
      }
    },
    {
      "cell_type": "code",
      "execution_count": 24,
      "metadata": {
        "pycharm": {
          "metadata": false,
          "name": "#%% \n",
          "is_executing": false
        }
      },
      "outputs": [
        {
          "data": {
            "text/plain": "array([0.00079788, 0.00079788, 0.00079788, ..., 0.00079788, 0.00079788,\n       0.00079788])"
          },
          "metadata": {},
          "output_type": "execute_result",
          "execution_count": 24
        }
      ],
      "source": "#gaussian_pdf \u003d ( 1/(scale * np.sqrt(2 * np.pi))  * np.exp(-(x - loc)**2 / (2 * scale**2)))\n#gaussian_pdf"
    },
    {
      "cell_type": "code",
      "execution_count": 15,
      "outputs": [
        {
          "data": {
            "text/plain": "[0.0,\n 0.0,\n 0.0,\n 0.0,\n 0.0,\n 0.0,\n 0.0,\n 0.0,\n 0.0,\n 0.0,\n 0.0,\n 0.0,\n 0.0,\n 0.0,\n 0.0,\n 0.0,\n 0.0,\n 0.0,\n 0.0,\n 0.0,\n 0.0,\n 0.0,\n 0.0,\n 0.0,\n 0.0,\n 0.0,\n 0.0,\n 0.0,\n 0.0,\n 0.0,\n 0.0,\n 0.0,\n 0.0,\n 0.0,\n 0.0,\n 0.0,\n 0.0,\n 0.0,\n 0.0,\n 0.0,\n 0.0,\n 0.0,\n 0.0,\n 0.0,\n 0.0,\n 0.0,\n 0.0,\n 0.0,\n 0.0,\n 0.0,\n 0.0,\n 0.0,\n 0.0,\n 0.0,\n 0.0,\n 0.0,\n 0.0,\n 0.0,\n 0.0,\n 0.0,\n 0.0,\n 0.0,\n 0.0,\n 0.0,\n 0.0,\n 0.0,\n 0.0,\n 0.0,\n 0.0,\n 0.0,\n 0.0,\n 0.0,\n 0.0,\n 0.0,\n 0.0,\n 0.0,\n 0.0,\n 0.0,\n 0.0,\n 0.0,\n 0.0,\n 0.0,\n 0.0,\n 0.0,\n 0.0,\n 0.0,\n 0.0,\n 0.0,\n 0.0,\n 0.0,\n 0.0,\n 0.0,\n 0.0,\n 0.0,\n 0.0,\n 0.0,\n 0.0,\n 0.0,\n 0.0,\n 0.0,\n 0.0,\n 0.0,\n 0.0,\n 0.0,\n 0.0,\n 0.0,\n 0.0,\n 0.0,\n 0.0,\n 0.0,\n 0.0,\n 0.0,\n 0.0,\n 0.0,\n 0.0,\n 0.0,\n 0.0,\n 0.0,\n 0.0,\n 0.0,\n 0.0,\n 0.0,\n 0.0,\n 0.0,\n 0.0,\n 0.0,\n 0.0,\n 0.0,\n 0.0,\n 0.0,\n 0.0,\n 0.0,\n 0.0,\n 0.0,\n 0.0,\n 0.0,\n 0.0,\n 0.0,\n 0.0,\n 0.0,\n 0.0,\n 0.0,\n 0.0,\n 0.0,\n 0.0,\n 0.0,\n 0.0,\n 0.0,\n 0.0,\n 0.0,\n 0.0,\n 0.0,\n 0.0,\n 0.0,\n 0.0,\n 0.0,\n 0.0,\n 0.0,\n 0.0,\n 0.0,\n 0.0,\n 0.0,\n 0.0,\n 0.0,\n 0.0,\n 0.0,\n 0.0,\n 0.0,\n 0.0,\n 0.0,\n 0.0,\n 0.0,\n 0.0,\n 0.0,\n 0.0,\n 0.0,\n 0.0,\n 0.0,\n 0.0,\n 0.0,\n 0.0,\n 0.0,\n 0.0,\n 0.0,\n 0.0,\n 0.0,\n 0.0,\n 0.0,\n 0.0,\n 0.0,\n 0.0,\n 0.0,\n 0.0,\n 0.0,\n 0.0,\n 0.0,\n 0.0,\n 0.0,\n 0.0,\n 0.0,\n 0.0,\n 0.0,\n 0.0,\n 0.0,\n 0.0,\n 0.0,\n 0.0,\n 0.0,\n 0.0,\n 0.0,\n 0.0,\n 0.0,\n 0.0,\n 0.0,\n 0.0,\n 0.0,\n 0.0,\n 0.0,\n 0.0,\n 0.0,\n 0.0,\n 0.0,\n 0.0,\n 0.0,\n 0.0,\n 0.0,\n 0.0,\n 0.0,\n 0.0,\n 0.0,\n 0.0,\n 0.0,\n 0.0,\n 0.0,\n 0.0,\n 0.0,\n 0.0,\n 0.0,\n 0.0,\n 0.0,\n 0.0,\n 0.0,\n 0.0,\n 0.0,\n 0.0,\n 0.0,\n 0.0,\n 0.0,\n 0.0,\n 0.0,\n 0.0,\n 0.0,\n 0.0,\n 0.0,\n 0.0,\n 0.0,\n 0.0,\n 0.0,\n 0.0,\n 0.0,\n 0.0,\n 0.0,\n 0.0,\n 0.0,\n 0.0,\n 0.0,\n 0.0,\n 0.0,\n 0.0,\n 0.0,\n 0.0,\n 0.0,\n 0.0,\n 0.0,\n 0.0,\n 0.0,\n 0.0,\n 0.0,\n 0.0,\n 0.0,\n 0.0,\n 0.0,\n 0.0,\n 0.0,\n 0.0,\n 0.0,\n 0.0,\n 0.0,\n 0.0,\n 0.0,\n 0.0,\n 0.0,\n 0.0,\n 0.0,\n 0.0,\n 0.0,\n 0.0,\n 0.0,\n 0.0,\n 0.0,\n 0.0,\n 0.0,\n 0.0,\n 0.0,\n 0.0,\n 0.0,\n 0.0,\n 0.0,\n 0.0,\n 0.0,\n 0.0,\n 0.0,\n 0.0,\n 0.0,\n 0.0,\n 0.0,\n 0.0,\n 0.0,\n 0.0,\n 0.0,\n 0.0,\n 0.0,\n 0.0,\n 0.0,\n 0.0,\n 0.0,\n 0.0,\n 0.0,\n 0.0,\n 0.0,\n 0.0,\n 0.0,\n 0.0,\n 0.0,\n 0.0,\n 0.0,\n 0.0,\n 0.0,\n 0.0,\n 0.0,\n 0.0,\n 0.0,\n 0.0,\n 0.0,\n 0.0,\n 0.0,\n 0.0,\n 0.0,\n 0.0,\n 0.0,\n 0.0,\n 0.0,\n 0.0,\n 0.0,\n 0.0,\n 0.0,\n 0.0,\n 0.0,\n 0.0,\n 0.0,\n 0.0,\n 0.0,\n 0.0,\n 0.0,\n 0.0,\n 0.0,\n 0.0,\n 0.0,\n 0.0,\n 0.0,\n 0.0,\n 0.0,\n 0.0,\n 0.0,\n 0.0,\n 0.0,\n 0.0,\n 0.0,\n 0.0,\n 0.0,\n 0.0,\n 0.0,\n 0.0,\n 0.0,\n 0.0,\n 0.0,\n 0.0,\n 0.0,\n 0.0,\n 0.0,\n 0.0,\n 0.0,\n 0.0,\n 0.0,\n 0.0,\n 0.0,\n 0.0,\n 0.0,\n 0.0,\n 0.0,\n 0.0,\n 0.0,\n 0.0,\n 0.0,\n 0.0,\n 0.0,\n 0.0,\n 0.0,\n 0.0,\n 0.0,\n 0.0,\n 0.0,\n 0.0,\n 0.0,\n 0.0,\n 0.0,\n 0.0,\n 0.0,\n 0.0,\n 0.0,\n 0.0,\n 0.0,\n 0.0,\n 0.0,\n 0.0,\n 0.0,\n 0.0,\n 0.0,\n 0.0,\n 0.0,\n 0.0,\n 0.0,\n 0.0,\n 0.0,\n 0.0,\n 0.0,\n 0.0,\n 0.0,\n 0.0,\n 0.0,\n 0.0,\n 0.0,\n 0.0,\n 0.0,\n 0.0,\n 0.0,\n 0.0,\n 0.0,\n 0.0,\n 0.0,\n 0.0,\n 0.0,\n 0.0,\n 0.0,\n 0.0,\n 0.0,\n 0.0,\n 0.0,\n 0.0,\n 0.0,\n 0.0,\n 0.0,\n 0.0,\n 0.0,\n 0.0,\n 0.0,\n 0.0,\n 0.0,\n 0.0,\n 0.0,\n 0.0,\n 0.0,\n 0.0,\n 0.0,\n 0.0,\n 0.0,\n 0.0,\n 0.0,\n 0.0,\n 0.0,\n 0.0,\n 0.0,\n 0.0,\n 0.0,\n 0.0,\n 0.0,\n 0.0,\n 0.0,\n 0.0,\n 0.0,\n 0.0,\n 0.0,\n 0.0,\n 0.0,\n 0.0,\n 0.0,\n 0.0,\n 0.0,\n 0.0,\n 0.0,\n 0.0,\n 0.0,\n 0.0,\n 0.0,\n 0.0,\n 0.0,\n 0.0,\n 0.0,\n 0.0,\n 0.0,\n 0.0,\n 0.0,\n 0.0,\n 0.0,\n 0.0,\n 0.0,\n 0.0,\n 0.0,\n 0.0,\n 0.0,\n 0.0,\n 0.0,\n 0.0,\n 0.0,\n 0.0,\n 0.0,\n 0.0,\n 0.0,\n 0.0,\n 0.0,\n 0.0,\n 0.0,\n 0.0,\n 0.0,\n 0.0,\n 0.0,\n 0.0,\n 0.0,\n 0.0,\n 0.0,\n 0.0,\n 0.0,\n 0.0,\n 0.0,\n 0.0,\n 0.0,\n 0.0,\n 0.0,\n 0.0,\n 0.0,\n 0.0,\n 0.0,\n 0.0,\n 0.0,\n 0.0,\n 0.0,\n 0.0,\n 0.0,\n 0.0,\n 0.0,\n 0.0,\n 0.0,\n 0.0,\n 0.0,\n 0.0,\n 0.0,\n 0.0,\n 0.0,\n 0.0,\n 0.0,\n 0.0,\n 0.0,\n 0.0,\n 0.0,\n 0.0,\n 0.0,\n 0.0,\n 0.0,\n 0.0,\n 0.0,\n 0.0,\n 0.0,\n 0.0,\n 0.0,\n 0.0,\n 0.0,\n 0.0,\n 0.0,\n 0.0,\n 0.0,\n 0.0,\n 0.0,\n 0.0,\n 0.0,\n 0.0,\n 0.0,\n 0.0,\n 0.0,\n 0.0,\n 0.0,\n 0.0,\n 0.0,\n 0.0,\n 0.0,\n 0.0,\n 0.0,\n 0.0,\n 0.0,\n 0.0,\n 0.0,\n 0.0,\n 0.0,\n 0.0,\n 0.0,\n 0.0,\n 0.0,\n 0.0,\n 0.0,\n 0.0,\n 0.0,\n 0.0,\n 0.0,\n 0.0,\n 0.0,\n 0.0,\n 0.0,\n 0.0,\n 0.0,\n 0.0,\n 0.0,\n 0.0,\n 0.0,\n 0.0,\n 0.0,\n 0.0,\n 0.0,\n 0.0,\n 0.0,\n 0.0,\n 0.0,\n 0.0,\n 0.0,\n 0.0,\n 0.0,\n 0.0,\n 0.0,\n 0.0,\n 0.0,\n 0.0,\n 0.0,\n 0.0,\n 0.0,\n 0.0,\n 0.0,\n 0.0,\n 0.0,\n 0.0,\n 0.0,\n 0.0,\n 0.0,\n 0.0,\n 0.0,\n 0.0,\n 0.0,\n 0.0,\n 0.0,\n 0.0,\n 0.0,\n 0.0,\n 0.0,\n 0.0,\n 0.0,\n 0.0,\n 0.0,\n 0.0,\n 0.0,\n 0.0,\n 0.0,\n 0.0,\n 0.0,\n 0.0,\n 0.0,\n 0.0,\n 0.0,\n 0.0,\n 0.0,\n 0.0,\n 0.0,\n 0.0,\n 0.0,\n 0.0,\n 0.0,\n 0.0,\n 0.0,\n 0.0,\n 0.0,\n 0.0,\n 0.0,\n 0.0,\n 0.0,\n 0.0,\n 0.0,\n 0.0,\n 0.0,\n 0.0,\n 0.0,\n 0.0,\n 0.0,\n 0.0,\n 0.0,\n 0.0,\n 0.0,\n 0.0,\n 0.0,\n 0.0,\n 0.0,\n 0.0,\n 0.0,\n 0.0,\n 0.0,\n 0.0,\n 0.0,\n 0.0,\n 0.0,\n 0.0,\n 0.0,\n 0.0,\n 0.0,\n 0.0,\n 0.0,\n 0.0,\n 0.0,\n 0.0,\n 0.0,\n 0.0,\n 0.0,\n 0.0,\n 0.0,\n 0.0,\n 0.0,\n 0.0,\n 0.0,\n 0.0,\n 0.0,\n 0.0,\n 0.0,\n 0.0,\n 0.0,\n 0.0,\n 0.0,\n 0.0,\n 0.0,\n 0.0,\n 0.0,\n 0.0,\n 0.0,\n 0.0,\n 0.0,\n 0.0,\n 0.0,\n 0.0,\n 0.0,\n 0.0,\n 0.0,\n 0.0,\n 0.0,\n 0.0,\n 0.0,\n 0.0,\n 0.0,\n 0.0,\n 0.0,\n 0.0,\n 0.0,\n 0.0,\n 0.0,\n 0.0,\n 0.0,\n 0.0,\n 0.0,\n 0.0,\n 0.0,\n 0.0,\n 0.0,\n 0.0,\n 0.0,\n 0.0,\n 0.0,\n 0.0,\n 0.0,\n 0.0,\n 0.0,\n 0.0,\n 0.0,\n 0.0,\n 0.0,\n 0.0,\n 0.0,\n 0.0,\n 0.0,\n 0.0,\n 0.0,\n 0.0,\n 0.0,\n 0.0,\n 0.0,\n 0.0,\n 0.0,\n 0.0,\n 0.0,\n 0.0,\n 0.0,\n 0.0,\n 0.0,\n 0.0,\n 0.0,\n 0.0,\n 0.0,\n 0.0,\n 0.0,\n 0.0,\n 0.0,\n 0.0,\n 0.0,\n 0.0,\n 0.0,\n 0.0,\n 0.0,\n 0.0,\n 0.0,\n 0.0,\n 0.0,\n 0.0,\n 0.0,\n 0.0,\n 0.0,\n 0.0,\n 0.0,\n 0.0,\n 0.0,\n 0.0,\n 0.0,\n 0.0,\n 0.0,\n 0.0,\n 0.0,\n 0.0,\n 0.0,\n 0.0,\n 0.0,\n 0.0,\n 0.0,\n 0.0,\n 0.0,\n 0.0,\n 0.0,\n 0.0,\n 0.0,\n 0.0,\n 0.0,\n 0.0,\n 0.0,\n 0.0,\n 0.0,\n 0.0,\n 0.0,\n 0.0,\n 0.0,\n 0.0,\n 0.0,\n 0.0,\n 0.0,\n 0.0,\n 0.0,\n 0.0,\n 0.0,\n 0.0,\n 0.0,\n 0.0,\n 0.0,\n 0.0,\n 0.0,\n 0.0,\n 0.0,\n 0.0,\n 0.0,\n 0.0,\n 0.0,\n 0.0,\n 0.0,\n 0.0,\n 0.0,\n 0.0,\n 0.0,\n 0.0,\n 0.0,\n 0.0,\n 0.0,\n 0.0,\n 0.0,\n 0.0,\n 0.0,\n 0.0,\n 0.0,\n 0.0,\n 0.0,\n 0.0,\n 0.0,\n 0.0,\n 0.0,\n 0.0,\n 0.0,\n 0.0,\n 0.0,\n 0.0,\n 0.0,\n 0.0,\n 0.0,\n 0.0,\n 0.0,\n 0.0,\n 0.0,\n 0.0,\n 0.0,\n 0.0,\n 0.0,\n 0.0,\n 0.0,\n 0.0,\n 0.0,\n 0.0,\n 0.0,\n 0.0,\n 0.0,\n 0.0,\n 0.0,\n 0.0,\n 0.0,\n 0.0,\n 0.0,\n 0.0,\n 0.0,\n 0.0,\n 0.0,\n 0.0,\n 0.0,\n 0.0,\n 0.0,\n 0.0,\n 0.0,\n 0.0,\n 0.0,\n 0.0,\n 0.0,\n 0.0,\n 0.0,\n 0.0,\n 0.0,\n 0.0,\n 0.0,\n 0.0,\n 0.0,\n 0.0,\n 0.0,\n 0.0,\n 0.0,\n 0.0,\n 0.0,\n 0.0,\n 0.0,\n 0.0,\n 0.0,\n 0.0,\n 0.0,\n 0.0,\n 0.0,\n 0.0,\n 0.0,\n 0.0,\n 0.0,\n 0.0,\n 0.0,\n 0.0,\n 0.0,\n 0.0,\n 0.0,\n 0.0,\n 0.0,\n 0.0,\n 0.0,\n 0.0,\n 0.0,\n 0.0,\n 0.0,\n 0.0,\n 0.0,\n 0.0,\n 0.0,\n 0.0,\n 0.0,\n ...]"
          },
          "metadata": {},
          "output_type": "execute_result",
          "execution_count": 15
        }
      ],
      "source": "#y \u003d [scipy.stats.entropy([i]) for i in gaussian_pdf]\n#y",
      "metadata": {
        "pycharm": {
          "metadata": false,
          "name": "#%% \n",
          "is_executing": false
        }
      }
    },
    {
      "cell_type": "code",
      "execution_count": null,
      "outputs": [],
      "source": "#g_entropy \u003d scipy.stats.entropy(gaussian_pdf)\n#g_entropy\n",
      "metadata": {
        "pycharm": {
          "metadata": false,
          "name": "#%% \n"
        }
      }
    },
    {
      "cell_type": "code",
      "execution_count": null,
      "outputs": [],
      "source": "#plt.plot(x, laplace_pdf)\n#plt.plot(x, gaussian_pdf)\n#plt.show()",
      "metadata": {
        "pycharm": {
          "metadata": false,
          "name": "#%% \n"
        }
      }
    },
    {
      "cell_type": "code",
      "execution_count": null,
      "outputs": [],
      "source": "l_entropy \u003d scipy.stats.entropy(laplace_pdf)\nl_entropy\n",
      "metadata": {
        "pycharm": {
          "metadata": false,
          "name": "#%% \n"
        }
      }
    },
    {
      "cell_type": "markdown",
      "metadata": {
        "pycharm": {
          "metadata": false
        }
      },
      "source": "(b) Derive the Shannon lower bound for both distributions for ` 2 -norm. Plot on the same\nfigure. Make the conclusions which distribution is better compressible with the smaller\ndistortion."
    },
    {
      "cell_type": "markdown",
      "metadata": {
        "pycharm": {
          "metadata": false
        }
      },
      "source": "\n(c) Derive the rate-distortion curve for the Laplacian distribution for ` 1 -norm. Compare the\nobtained result with the above Shannon lower bound (obtained for ` 2 -norm ). Plot both\nresults on the same figure. Make the conclusions.\n"
    },
    {
      "cell_type": "markdown",
      "source": "\n##  K-means Exercise 2 \n(a) Given training data $\\{x\\}{_i }{^N}$  \ni\u003d1 generated from Gaussian distribution p(x) ∼ N (μ, σ ) in two\ndimensional space.\n",
      "metadata": {
        "pycharm": {
          "metadata": false
        }
      }
    },
    {
      "cell_type": "code",
      "source": "N \u003d 1000\nimport numpy as np \nfrom scipy.stats import norm\nimport matplotlib.pyplot as plt\n\nloc, scale \u003d 5, 100\n \nx \u003d np.linspace(norm.ppf(0.01), norm.ppf(0.99), 100)\nnorm.pdf(x, loc, scale)\nplt.plot(x)\nplt.show()\nprint(x[:10])\nprint(x[:10])",
      "metadata": {
        "pycharm": {
          "metadata": false,
          "name": "#%%\n",
          "is_executing": false
        }
      },
      "execution_count": 14,
      "outputs": [
        {
          "data": {
            "text/plain": "\u003cFigure size 432x288 with 1 Axes\u003e",
            "image/png": "iVBORw0KGgoAAAANSUhEUgAAAXYAAAD8CAYAAABjAo9vAAAABHNCSVQICAgIfAhkiAAAAAlwSFlzAAALEgAACxIB0t1+/AAAADl0RVh0U29mdHdhcmUAbWF0cGxvdGxpYiB2ZXJzaW9uIDMuMC4zLCBodHRwOi8vbWF0cGxvdGxpYi5vcmcvnQurowAAHslJREFUeJzt3Xd0VWW+xvHvSyghIZQQQk0IPQQSWqg2VEZBEUX0jo5jVxxn5k69GhAcYbBgG3Wsg9252IYEQURFEHsDVE4KAUJooQUIhJBCynnvH4l3sWZAgeyTfc7O81kri5yTw96/zRuetbPP5sFYaxEREe9o4vYAIiLiLAW7iIjHKNhFRDxGwS4i4jEKdhERj1Gwi4h4jIJdRMRjFOwiIh6jYBcR8Zimbuw0JibGJiQkuLFrEZGQtWbNmn3W2g4/9TpXgj0hIYHVq1e7sWsRkZBljNl6Iq/TpRgREY9RsIuIeIyCXUTEYxTsIiIeo2AXEfEYBbuIiMco2EVEPEbBLiLSAA6UVjL77WwOVVQFfF+u/AMlEZHGwlrL0szd3LU4i4NlVZzWK4ZxSR0Duk8Fu4hIgOw5VMGdb2WxLGcPyV3b8MoNI0nq0jrg+1Wwi4g4zFrLm6u3c/c766is9jN9QiI3nt6DpmENc/VbwS4i4qBt+8uYvtDH53n7GdkjmrlTUugRE9mgMyjYRUQcUOO3vPTFFh56fz1hTQz3TB7IlcPjadLENPgsCnYRkXrauKeE29N9fLftIOckxnL3JQPp0rala/Mo2EVETlFltZ9nPt7E4x9uJCq8GY9dMZhJg7pgTMOfpR9NwS4icgrWbj9IWrqP3N0lTBrUhbsuSqJ9qxZujwUo2EVETkpFVQ2PfLCBZz/NJzYqnOeuSQ34feknS8EuInKCvsrfz7R0H1v2l3HliHimX5BI6/Bmbo/1H+od7MaYOOAVoBPgB+ZZax+r73ZFRILFoYoq5r6by6tfbyM+OoJXbx7JmF4xbo91XE6csVcDf7bWfmuMiQLWGGM+sNbmOLBtERFXrVi3hxkLsygsqeDmM3rwp5/1o2XzMLfH+lH1DnZr7S5gV93nJcaYdUBXQMEuIiFr/+EjzH47h8Vrd9KvYxTPXD2MwXFt3R7rhDh6jd0YkwAMAb52crsiIg3FWsvitTuZ/XYOJRVV/HFcX24d24vmTUOnDNexYDfGtALSgT9Yaw8d4+tTgakA8fHxTu1WRMQxu4srmLEwkxW5hQyKa8sDU1Lo1ynK7bFOmiPBboxpRm2oz7fWZhzrNdbaecA8gNTUVOvEfkVEnGCt5fVV27n3nXVU+f3MvLA/15/WgzAX6gCc4MRdMQZ4Hlhnrf1b/UcSEWk4W/eXMi09ky/z9zO6Z3vmTkmme/uGLe1ymhNn7KcBVwOZxpjv6567w1q71IFti4gERI3f8sJnm3n4g/U0a9KEuZcm8/Phca7XATjBibtiPgNC/09CRBqN9btLuH3BWtYWFDOufyx3X5JMpzbhbo/lGP3LUxFpNCqr/Ty5Mo+nPsqjdXgzHr9yCBNTOnviLP1oCnYRaRS+23aAtHQfG/Yc5uLBXbjrogFERzZ3e6yAULCLiKeVVVbz8LINvPD5Zjq1DueF61I5JzG4SrucpmAXEc/6Im8f0zIy2VZUxi9HxZM2PpGoICztcpqCXUQ8p7i8ivuWruP1VdtJaB/B61NHMapne7fHajAKdhHxlGXZu5n5Vhb7Dh/hlrN68sdxfQlvFtylXU5TsIuIJ+w7fIRZi7NZ4ttFYqconrs2lZRuoVHa5TQFu4iENGsti77fyey3syk9UsOff9aXX43tRbOw0CntcpqCXURC1s6D5cx8K4sPcwsZEl9b2tWnY+iVdjlNwS4iIcfvt7z6zTbmvptLjd9y58QkrhuTELKlXU5TsItISNm8r5S0dB/fbC7i9N4x3HdpMnHREW6PFVQU7CISEqpr/Dz32WYe+WADzZs24YEpKVye2s1zdQBOULCLSNDL2XmItHQfmTuKOS+pI3MuGUjH1t4p7XKagl1EgtaR6hqe+DCPpz/aRNuIZjx11VAmDOyks/SfoGAXkaC0ZmttaVde4WEuHdqVOy9Mop1HS7ucpmAXkaBSeqSah5at56UvttC5dTgvXT+csf1i3R4rpCjYRSRofLZxH9MyfBQcKOea0d25fXwirVoopk6W/sRExHXFZVXcszSHN1cX0DMmkjdvGc2IHtFujxWyFOwi4qr3snZz56Isikor+fXYXvzu3D6NrrTLaQp2EXFFYUkFsxZnszRzN0mdW/PidcMZ2LWN22N5goJdRBqUtZaMb3fw1yU5lFfVcNv5/Zh6Zs9GXdrlNAW7iDSYHQfLuSMjk4837GVY93bcPyWF3rGt3B7LcxTsIhJwfr9l/tdbmftuLhaYPWkAV4/qThOVdgWEgl1EAmrT3sNMS/exassBzugTw72TVdoVaAp2EQmIqho/z36az6PLN9KyWRgPXT6IKUO7qg6gASjYRcRxWTuKSUv3kb3zEOMHdOKvlwwgNkqlXQ1FwS4ijqmoquHxDzfyzMf5tItoztNXDWVCcme3x2p0FOwi4ojVW4q4Pd1H/t5Spgztxp0T+9M2QqVdblCwi0i9lB6p5oH3cnnlq610adOSV24YwZl9O7g9VqOmYBeRU/bxhr3ckZHJzuJyrh2dwG3n9yNSpV2u0wqIyEk7WFbJnCXrSP+2gF4dIvnXLaNJTVBpV7BQsIvISVmauYu/LMriYFkVvzm7F/99jkq7go2CXUROSOGhCv6yKJv3snczsGtrXr5hBAO6qLQrGCnYReRHWWv515oC7l6SQ0W1n7Txidx8Rg+aqrQraDkS7MaYF4CJQKG1dqAT2xQR920vKuOOhZl8unEfIxKimTslmZ4dVNoV7Jw6Y38JeAJ4xaHtiYiLavyWV77cwoPvr8cAcy4ewFUjVdoVKhwJdmvtJ8aYBCe2JSLuyissIS09kzVbD3BW3w7cM3kg3dqptCuU6Bq7iAC1pV3/+HgTf1+RR0SLMP72X4OYPESlXaGowYLdGDMVmAoQHx/fULsVkROQWVDM7ek+1u06xIUpnZl10QA6RLVweyw5RQ0W7NbaecA8gNTUVNtQ+xWR46uoquHR5Rt59tN8oiOb84+rh3H+gE5ujyX1pEsxIo3UN5uLSEv3sXlfKT9PjeOOC/rTJqKZ22OJA5y63fE1YCwQY4wpAO6y1j7vxLZFxFklFVXc/14u//vVNuKiWzL/ppGc1jvG7bHEQU7dFXOlE9sRkcBaub6QGRmZ7DpUwY2n9+DP5/Ulorl+cPcarahII1BUWsmcJTks/G4HfWJbkX7rGIbGt3N7LAkQBbuIh1lrWeLbxazF2RSXV/G7c/vwm7N70aKpSru8TMEu4lF7DlUwY2EWy9ftIaVbG+bfPJLETq3dHksagIJdxGOstbyxajv3LF1HZbWfGRf05/rTElTa1Ygo2EU8ZNv+MqZl+Phi035G9ojm/ikpJMREuj2WNDAFu4gH1PgtL32xhYfeX09YE8O9k5O5YnicSrsaKQW7SIjbsKeE2xf4+H77Qc5JjOWeyQPp3Kal22OJixTsIiGqstrP0x9t4omVG2nVoimPXTGYSYO6qLRLFOwioWjt9oOkpfvI3V3CRYO6MOuiJNq3UmmX1FKwi4SQ8soaHlm+gec+zSc2KpznrkllXFJHt8eSIKNgFwkRX27az/QMH1v2l3HliDimX9Cf1uEq7ZL/pGAXCXKHKqqY+24ur369je7tI3j15pGM6aXSLjk+BbtIEFuxbg8zFmZRWFLBzWf04E8/60fL5qoDkB+nYBcJQvsPH2H22zksXruTfh2jeObqYQyOa+v2WBIiFOwiQcRay+K1O5n9dg4lFVX8YVwffj22N82bqg5ATpyCXSRI7CouZ+bCLFbkFjI4ri0PXJZC345Rbo8lIUjBLuIyv9/y2qpt3Lc0l2q/n5kX9uf603oQpjoAOUUKdhEXbdlXyrQMH1/lFzGmV3vmXppCfPsIt8eSEKdgF3FBjd/y/Gf5PLxsA83DmnDfpbWlXaoDECco2EUa2PrdJdy+YC1rC4oZ1z+Wuy9JplObcLfHEg9RsIs0kCPVNTy1chNPfZRHVHgzHr9yCBNTOussXRynYBdpAN9tO0Bauo8New4zeUhX7pyYRHRkc7fHEo9SsIsEUFllNQ8v28ALn2+mU+twXrgulXMSVdolgaVgFwmQL/L2MS0jk21FZfxyVDxp4xOJUmmXNAAFu4jDisuruG/pOl5ftZ2E9hG8PnUUo3q2d3ssaUQU7CIO+iBnDzPfymRvyRFuOasnfxzXl/BmKu2ShqVgF3HAvsNHmLU4myW+XSR2iuLZa1JJ6abSLnGHgl2kHqy1vPX9Dma/nUPZkRr+57y+3HJWL5qFqbRL3KNgFzlFOw+WM2NhJivX72VIfFsemJJCH5V2SRBQsIucJL/fMv+bbcxdug6/hbsuSuKa0Qkq7ZKgoWAXOQmb95WSlu7jm81FnN47hvsuTSYuWqVdElwU7CInoLrGz/OfbeZvH2ygRdMmPHBZCpcP66Y6AAlKCnaRn5Cz8xBp6T4ydxRzXlJH7r5kILGtVdolwcuRYDfGjAceA8KA56y1c53YroibjlTX8MSHeTz90SbaRjTjqauGMmFgJ52lS9Crd7AbY8KAJ4GfAQXAKmPMYmttTn23LeKWNVtrS7vyCg9zaV1pVzuVdkmIcOKMfQSQZ63NBzDGvA5cDCjYJeSUHqnmoWXreemLLXRp05KXrh/O2H6xbo8lclKcCPauwPajHhcAIx3YrkiD+nTjXqZnZFJwoJyrR3UnbUIirVrobSgJPU581x7rgqP9jxcZMxWYChAfH+/AbkWcUVxWxT1Lc3hzdQE9YyJ585bRjOgR7fZYIqfMiWAvAOKOetwN2PnvL7LWzgPmAaSmpv5H8Iu44b2sXdy5KJui0kpuHduL35/bR6VdEvKcCPZVQB9jTA9gB3AF8AsHtisSMIUlFdy1KJt3s3aT1Lk1L143nIFd27g9logj6h3s1tpqY8xvgfepvd3xBWttdr0nEwkAay3p3+5gzpIcyqtquO38fkw9s6dKu8RTHHlnyFq7FFjqxLZEAqXgQBl3LMzikw17Se3ejrlTUugd28rtsUQcp7f8xfP8fssrX27hgffXAzB70gCuHtWdJirtEo9SsIun5RUeZlq6j9VbD3BGn9rSrm7tVNol3qZgF0+qqvEz75N8HluxkfCmTXjwshQuU2mXNBIKdvGcrB3FpKX7yN55iAuSOzFr0gBio1TaJY2Hgl08o6Kqhr+v2Mg/PsknOrI5z/xyKOMHdnZ7LJEGp2AXT1i1pYi0dB/5e0u5fFg3Zl6YRJuIZm6PJeIKBbuEtMNHqnngvVxe+XIrXdu25J83juCMPh3cHkvEVQp2CVkfb9jLHRmZ7Cwu57oxCdx2fj8iVdolomCX0HOgtJI57+SQ8e0OenWIZMGvRjOsu0q7RH6gYJeQYa3l3azd/GVRFgfLqvjvc3rz23N606KpSrtEjqZgl5BQeKiCOxdl8X72HpK7tuGVG0aS1KW122OJBCUFuwQ1ay3/WlPA3UtyqKj2M21CIjed3oOmKu0SOS4FuwSt7UVlTM/I5LO8fYxIiGbulGR6dlBpl8hPUbBL0KnxW17+YgsPvr+esCaGuy8ZyC9GxKu0S+QEKdglqOQVlnD7Ah/fbjvI2H4duHdyMl3atnR7LJGQomCXoFBV4+eZjzbx+Id5RLYI49GfD+biwV1U2iVyChTs4rrMgmJuW7CW3N0lTEzpzKxJA4hp1cLtsURCloJdXFNRVcMjyzfw7Cf5xLRqwbyrh3HegE5ujyUS8hTs4oqv8/czLSOTzftK+XlqHHdc2J82LVXaJeIEBbs0qJKKKu5/L5f//WobcdEtmX/TSE7rHeP2WCKeomCXBrMyt5AZCzPZfaiCm07vwZ/O60tEc30LijhNf6sk4IpKK5mzJIeF3+2gT2wr0m8dw5D4dm6PJeJZCnYJGGstS3y7mLU4m+LyKn53bh9+c3YvlXaJBJiCXQJiz6EKZr6VxQc5e0jp1ob5N48ksZNKu0QagoJdHGWt5Y1V27ln6Toqq/3ccUEiN5ym0i6RhqRgF8ds21/GtAwfX2zaz8ge0dw/JYWEmEi3xxJpdBTsUm81fsuLn2/moWXradqkCfdOTuaK4XEq7RJxiYJd6mXDntrSru+3H+ScxFjumTyQzm1U2iXiJgW7nJLKaj9Pf7SJJ1ZupFWLpjx2xWAmDVJpl0gwULDLSVu7/SBp6T5yd5cwaVAX7rooifYq7RIJGgp2OWHllTX87YP1PP/ZZmKjwnnumlTGJXV0eywR+TcKdjkhX27az7QMH1v3l/GLkfFMm5BI63CVdokEIwW7/KhDFVXctzSX177ZRvf2Ebx680jG9FJpl0gwU7DLca1Yt4cZC7MoLKlg6pk9+eO4vrRsrjoAkWBXr2A3xlwOzAL6AyOstaudGErctf/wEWa/ncPitTvp1zGKZ64exuC4tm6PJSInqL5n7FnApcA/HJhFXGatZfHancx+O4eSiir+OK4vt47tRfOmqgMQCSX1CnZr7TpA9y57wK7icmYuzGJFbiGD4try4GUp9O0Y5fZYInIKdI29kfP7La+t2sZ9S3Op9vuZeWF/rj+tB2GqAxAJWT8Z7MaY5cCx/ofhGdbaRSe6I2PMVGAqQHx8/AkPKIGzZV8p0zJ8fJVfxJhe7bnv0mS6t1dpl0io+8lgt9aOc2JH1tp5wDyA1NRU68Q25dRU1/h54fPNPLxsA82bNuH+Kcn8V2qcLqmJeIQuxTQyubsPkbbAx9qCYsb178g9kwfSsXW422OJiIPqe7vjZOBxoAPwjjHme2vt+Y5MJo46Ul3Dkys38fRHebQOb8YTvxjChcmddZYu4kH1vStmIbDQoVkkQL7ddoC0BT42Fh5m8pCu/GViEu0im7s9logEiC7FeFhZZTUPL9vAC59vplPrcF68bjhnJ8a6PZaIBJiC3aM+z9vHtAwf24vKuaqutCtKpV0ijYKC3WOKy6u49511vLF6Oz1iInlj6ihG9mzv9lgi0oAU7B6yLHs3M9/KYt/hI9xyVm1pV3gzlXaJNDYKdg/Yd/gIdy3O5h3fLhI7RfHctamkdFNpl0hjpWAPYdZaFn63g78uyaHsSA3/c15fbjmrF83CVNol0pgp2EPUjoPlzFiYyUfr9zI0vi0PXJZC71iVdomIgj3k+P2W+V9vZe67ufgt/GViEteOSVBpl4j8PwV7CMnfe5hp6Zl8s6WIM/rEcO/kZOKiI9weS0SCjII9BFTX+Jn3aT6PLt9IeNMmPHBZCpcP66Y6ABE5JgV7kMveWUxauo+sHYcYP6ATf71kALFRKu0SkeNTsAepiqoanvgwj2c+3kTbiOY8fdVQJiR3dnssEQkBCvYgtGZrEbcv8LFpbylThnbjzon9aRuh0i4ROTEK9iBSeqSaB99fz8tfbqFLm5a8fMMIzurbwe2xRCTEKNiDxCcb9jI9I5OdxeVcM6o7t41PpFULLY+InDwlh8uKy6qY804OC9YU0LNDJG/eMprhCdFujyUiIUzB7qL3snZx56Jsikor+fXYXvzu3D4q7RKRelOwu6CwpIK7FmXzbtZukjq35sXrhjOwaxu3xxIRj1CwNyBrLenf7mDOkhzKq2q47fx+TD2zp0q7RMRRCvYGsr2ojDsWZvLpxn2kdm/H3Ckp9I5t5fZYIuJBCvYA8/st//xqK/e/lwvA7EkDuHpUd5qotEtEAkTBHkB5hYeZlu5j9dYDnNm3A/dOHki3dirtEpHAUrAHQFWNn3mf5PPY8o20bB7Gw5cP4tKhXVXaJSINQsHusKwdxdy+wEfOrkNckNyJ2ZMG0iGqhdtjiUgjomB3SEVVDY+t2Mi8T/KJjmzOM78cyviBKu0SkYanYHfAqi1FpC3wkb+vlMuHdWPmhUm0iWjm9lgi0kgp2Ovh8JFqHngvl39+tZWubVvyzxtHcEYflXaJiLsU7Kdo5fpCZi7MYmdxOdeOTuC28/sRqdIuEQkCSqKTdKC0kjlLcsj4bge9OkSy4FejGdZdpV0iEjwU7CfIWsvSzN3ctTiLg2VV/Pbs3vz2nN4q7RKRoKNgPwGFhyqY+VYWy3L2MLBra16+YQQDuqi0S0SCk4L9R1hr+dfqAua8k0NltZ9pExK56fQeNFVpl4gEMQX7cWwvKmN6Riaf5e1jREI0c6ck07ODSrtEJPjVK9iNMQ8CFwGVwCbgemvtQScGc0uN3/LyF1t48P31hDUxzLlkIFeNiFdpl4iEjPqesX8ATLfWVhtj7gemA2n1H8sdG/eUkJbu49ttBzm7XwfumZxMl7Yt3R5LROSk1CvYrbXLjnr4FXBZ/cZxR2W1n398vInHP8wjskUYj/58MBcP7qLSLhEJSU5eY78BeMPB7TWIzIJibluwltzdJUxM6cysSQOIaaXSLhEJXT8Z7MaY5UCnY3xphrV2Ud1rZgDVwPwf2c5UYCpAfHz8KQ3rpIqqGh5ZvoFnP8knplUL5l09jPMGHOswRURCy08Gu7V23I993RhzLTARONdaa39kO/OAeQCpqanHfV1D+Dp/P2npPrbsL+OK4XFMv6A/bVqqtEtEvKG+d8WMp/bN0rOstWXOjBQ4JRVVzH03l/lfbyM+OoL5N43ktN4xbo8lIuKo+l5jfwJoAXxQ90bjV9baX9V7qgBYmVvIHQsz2XOogptO78GfzutLRHPdxi8i3lPfu2J6OzVIoBSVVvLXt7N56/ud9IltxZO3jmFofDu3xxIRCRjPnrJaa1ni28WsxdkUl1fx+3P78Ouze9GiqUq7RMTbPBnsu4trS7uWr9vDoG5tmH/zSBI7tXZ7LBGRBuGpYLfW8vqq7dz7zjqq/H5mXNCfG07vQZjqAESkEfFMsG/dX8q09Ey+zN/PqJ7RzL00hYSYSLfHEhFpcCEf7DV+y4ufb+ahZetp1qQJ905O5orhcSrtEpFGK6SDff3uEm5P97F2+0HOTYzl7skD6dxGpV0i0riFZLBXVvt56qM8nlyZR1R4M/5+5RAuSums0i4REUIw2L/ffpC0BT7W7ylh0qAu3HVREu1V2iUi8v9CKtgfX7GRR5ZvIDYqnOevTeXc/h3dHklEJOiEVLDHt4/gihHxTJuQSOtwlXaJiBxLSAX7xYO7cvHgrm6PISIS1Jq4PYCIiDhLwS4i4jEKdhERj1Gwi4h4jIJdRMRjFOwiIh6jYBcR8RgFu4iIxxhrbcPv1Ji9wNZT/O0xwD4HxwkVjfG4G+MxQ+M87sZ4zHDyx93dWtvhp17kSrDXhzFmtbU21e05GlpjPO7GeMzQOI+7MR4zBO64dSlGRMRjFOwiIh4TisE+z+0BXNIYj7sxHjM0zuNujMcMATrukLvGLiIiPy4Uz9hFRORHhFSwG2PGG2PWG2PyjDHT3J4nEIwxccaYlcaYdcaYbGPM7+uejzbGfGCM2Vj3azu3Z3WaMSbMGPOdMWZJ3eMexpiv6475DWNMc7dndJoxpq0xZoExJrduzUd7fa2NMX+s+97OMsa8ZowJ9+JaG2NeMMYUGmOyjnrumGtrav29Ltt8xpih9dl3yAS7MSYMeBKYACQBVxpjktydKiCqgT9ba/sDo4Df1B3nNGCFtbYPsKLusdf8Hlh31OP7gUfqjvkAcKMrUwXWY8B71tpEYBC1x+/ZtTbGdAV+B6RaawcCYcAVeHOtXwLG/9tzx1vbCUCfuo+pwNP12XHIBDswAsiz1uZbayuB14GLXZ7JcdbaXdbab+s+L6H2L3pXao/15bqXvQxc4s6EgWGM6QZcCDxX99gA5wAL6l7ixWNuDZwJPA9gra201h7E42tN7f/c1tIY0xSIAHbhwbW21n4CFP3b08db24uBV2ytr4C2xpjOp7rvUAr2rsD2ox4X1D3nWcaYBGAI8DXQ0Vq7C2rDH4h1b7KAeBS4HfDXPW4PHLTWVtc99uJ69wT2Ai/WXYJ6zhgTiYfX2lq7A3gI2EZtoBcDa/D+Wv/geGvraL6FUrCbYzzn2Vt6jDGtgHTgD9baQ27PE0jGmIlAobV2zdFPH+OlXlvvpsBQ4Glr7RCgFA9ddjmWumvKFwM9gC5AJLWXIf6d19b6pzj6/R5KwV4AxB31uBuw06VZAsoY04zaUJ9vrc2oe3rPDz+a1f1a6NZ8AXAaMMkYs4XaS2znUHsG37bux3Xw5noXAAXW2q/rHi+gNui9vNbjgM3W2r3W2iogAxiD99f6B8dbW0fzLZSCfRXQp+7d8+bUvuGy2OWZHFd3bfl5YJ219m9HfWkxcG3d59cCixp6tkCx1k631naz1iZQu64fWmuvAlYCl9W9zFPHDGCt3Q1sN8b0q3vqXCAHD681tZdgRhljIuq+1384Zk+v9VGOt7aLgWvq7o4ZBRT/cMnmlFhrQ+YDuADYAGwCZrg9T4CO8XRqfwTzAd/XfVxA7TXnFcDGul+j3Z41QMc/FlhS93lP4BsgD/gX0MLt+QJwvIOB1XXr/RbQzutrDcwGcoEs4J9ACy+uNfAate8jVFF7Rn7j8daW2ksxT9ZlWya1dw2d8r71L09FRDwmlC7FiIjICVCwi4h4jIJdRMRjFOwiIh6jYBcR8RgFu4iIxyjYRUQ8RsEuIuIx/wfT534jXI+LAwAAAABJRU5ErkJggg\u003d\u003d\n"
          },
          "metadata": {
            "needs_background": "light"
          },
          "output_type": "display_data"
        },
        {
          "data": {
            "text/plain": "-2.3263478740408408"
          },
          "metadata": {},
          "output_type": "execute_result",
          "execution_count": 14
        }
      ]
    },
    {
      "cell_type": "markdown",
      "source": "\n(b) Implement and investigate:\n• K-means clustering algorithm producing {x̂_{k} } K\nk\u003d1 .\n• Investigate the impact of initialization of clusters on the converge.\n• Investigate overfitting by playing with different N and K.\n• Conclude how many training samples are needed for the given number of clusters.\n• Investigate the impact of the number of clusters on the approximation accuracy.",
      "metadata": {
        "pycharm": {
          "metadata": false
        }
      }
    },
    {
      "cell_type": "code",
      "source": "",
      "metadata": {
        "pycharm": {
          "metadata": false,
          "name": "#%% \n"
        }
      },
      "execution_count": null,
      "outputs": []
    },
    {
      "cell_type": "markdown",
      "source": "\n(c) Investigate k-means clustering on the mixture of Gaussians consisting of C clusters with\ndifferent means and covariance matrices in two dimensional space. Visualize the interme-\ndiate steps of clustering. Select the number of cluster smaller, equal and larger than the\namount of mixture components C.",
      "metadata": {
        "pycharm": {
          "metadata": false
        }
      }
    },
    {
      "cell_type": "code",
      "execution_count": null,
      "metadata": {
        "pycharm": {
          "metadata": false,
          "name": "#%%\n"
        }
      },
      "outputs": [],
      "source": "import scipy.io\nx  \u003d scipy.io.loadmat(\u0027../data/EXT_YALE_B_Normal.mat\u0027)"
    },
    {
      "cell_type": "code",
      "execution_count": null,
      "metadata": {
        "pycharm": {
          "metadata": false,
          "name": "#%%\n"
        }
      },
      "outputs": [],
      "source": [
        "x[\"faceData\"]"
      ]
    },
    {
      "cell_type": "code",
      "execution_count": null,
      "metadata": {
        "pycharm": {
          "metadata": false,
          "name": "#%%\n"
        }
      },
      "outputs": [],
      "source": [
        "x[\"listOfSamplesPerSubject\"]\n"
      ]
    }
  ],
  "metadata": {
    "kernelspec": {
      "display_name": "Python 3",
      "language": "python",
      "name": "python3"
    },
    "language_info": {
      "codemirror_mode": {
        "name": "ipython",
        "version": 3
      },
      "file_extension": ".py",
      "mimetype": "text/x-python",
      "name": "python",
      "nbconvert_exporter": "python",
      "pygments_lexer": "ipython3",
      "version": "3.7.3"
    },
    "stem_cell": {
      "cell_type": "raw",
      "metadata": {
        "pycharm": {
          "metadata": false
        }
      },
      "source": ""
    }
  },
  "nbformat": 4,
  "nbformat_minor": 1
}